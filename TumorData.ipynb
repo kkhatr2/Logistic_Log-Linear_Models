{
 "cells": [
  {
   "cell_type": "code",
   "execution_count": 3,
   "metadata": {},
   "outputs": [
    {
     "data": {
      "text/plain": [
       "              site\n",
       "type           Extremeties HeadNeck Trunk\n",
       "  Huchinctons           10       22     2\n",
       "  Intermediate          28       11    17\n",
       "  Nodular               73       19    33\n",
       "  Superficial          115       16    54"
      ]
     },
     "metadata": {},
     "output_type": "display_data"
    }
   ],
   "source": [
    "tumor = data.frame(type = c(rep(\"Huchinctons\", 34), \n",
    "                            rep(\"Superficial\", 185), \n",
    "                            rep(\"Nodular\", 125), \n",
    "                            rep(\"Intermediate\", 56)),\n",
    "                  site = c(rep(\"HeadNeck\", 22), rep(\"Trunk\", 2), rep(\"Extremeties\", 10),\n",
    "                           rep(\"HeadNeck\", 16), rep(\"Trunk\", 54), rep(\"Extremeties\", 115),\n",
    "                           rep(\"HeadNeck\", 19), rep(\"Trunk\", 33), rep(\"Extremeties\", 73),\n",
    "                           rep(\"HeadNeck\", 11), rep(\"Trunk\", 17), rep(\"Extremeties\", 28)))\n",
    "myTable = table(tumor)\n",
    "myTable"
   ]
  },
  {
   "cell_type": "code",
   "execution_count": 156,
   "metadata": {},
   "outputs": [
    {
     "name": "stdout",
     "output_type": "stream",
     "text": [
      "2 iterations: deviation 2.842171e-14 \n"
     ]
    }
   ],
   "source": [
    "fit = loglin(myTable, margin=c(1, 2), fit=T, param=T)"
   ]
  },
  {
   "cell_type": "code",
   "execution_count": 157,
   "metadata": {},
   "outputs": [
    {
     "data": {
      "text/html": [
       "<ol class=list-inline>\n",
       "\t<li>'lrt'</li>\n",
       "\t<li>'pearson'</li>\n",
       "\t<li>'df'</li>\n",
       "\t<li>'margin'</li>\n",
       "\t<li>'fit'</li>\n",
       "\t<li>'param'</li>\n",
       "</ol>\n"
      ],
      "text/latex": [
       "\\begin{enumerate*}\n",
       "\\item 'lrt'\n",
       "\\item 'pearson'\n",
       "\\item 'df'\n",
       "\\item 'margin'\n",
       "\\item 'fit'\n",
       "\\item 'param'\n",
       "\\end{enumerate*}\n"
      ],
      "text/markdown": [
       "1. 'lrt'\n",
       "2. 'pearson'\n",
       "3. 'df'\n",
       "4. 'margin'\n",
       "5. 'fit'\n",
       "6. 'param'\n",
       "\n",
       "\n"
      ],
      "text/plain": [
       "[1] \"lrt\"     \"pearson\" \"df\"      \"margin\"  \"fit\"     \"param\"  "
      ]
     },
     "metadata": {},
     "output_type": "display_data"
    }
   ],
   "source": [
    "names(fit)"
   ]
  },
  {
   "cell_type": "code",
   "execution_count": 158,
   "metadata": {},
   "outputs": [
    {
     "data": {
      "text/html": [
       "2.0504530295895e-09"
      ],
      "text/latex": [
       "2.0504530295895e-09"
      ],
      "text/markdown": [
       "2.0504530295895e-09"
      ],
      "text/plain": [
       "[1] 2.050453e-09"
      ]
     },
     "metadata": {},
     "output_type": "display_data"
    }
   ],
   "source": [
    "1-pchisq(fit$lrt, fit$df)"
   ]
  },
  {
   "cell_type": "code",
   "execution_count": 159,
   "metadata": {},
   "outputs": [
    {
     "data": {
      "text/html": [
       "<ol class=list-inline>\n",
       "\t<li>'type'</li>\n",
       "\t<li>NA</li>\n",
       "</ol>\n"
      ],
      "text/latex": [
       "\\begin{enumerate*}\n",
       "\\item 'type'\n",
       "\\item NA\n",
       "\\end{enumerate*}\n"
      ],
      "text/markdown": [
       "1. 'type'\n",
       "2. NA\n",
       "\n",
       "\n"
      ],
      "text/plain": [
       "[1] \"type\" NA    "
      ]
     },
     "metadata": {},
     "output_type": "display_data"
    },
    {
     "data": {
      "text/html": [
       "6"
      ],
      "text/latex": [
       "6"
      ],
      "text/markdown": [
       "6"
      ],
      "text/plain": [
       "[1] 6"
      ]
     },
     "metadata": {},
     "output_type": "display_data"
    }
   ],
   "source": [
    "fit$margin\n",
    "fit$df"
   ]
  },
  {
   "cell_type": "code",
   "execution_count": 160,
   "metadata": {},
   "outputs": [
    {
     "data": {
      "text/html": [
       "65.8129270036264"
      ],
      "text/latex": [
       "65.8129270036264"
      ],
      "text/markdown": [
       "65.8129270036264"
      ],
      "text/plain": [
       "[1] 65.81293"
      ]
     },
     "metadata": {},
     "output_type": "display_data"
    },
    {
     "data": {
      "text/html": [
       "51.7950126549256"
      ],
      "text/latex": [
       "51.7950126549256"
      ],
      "text/markdown": [
       "51.7950126549256"
      ],
      "text/plain": [
       "[1] 51.79501"
      ]
     },
     "metadata": {},
     "output_type": "display_data"
    },
    {
     "data": {
      "text/html": [
       "<dl>\n",
       "\t<dt>$`(Intercept)`</dt>\n",
       "\t\t<dd>3.17645816351182</dd>\n",
       "\t<dt>$type</dt>\n",
       "\t\t<dd><dl class=dl-horizontal>\n",
       "\t<dt>Huchinctons</dt>\n",
       "\t\t<dd>-0.873734919816823</dd>\n",
       "\t<dt>Intermediate</dt>\n",
       "\t\t<dd>-0.374743753697835</dd>\n",
       "\t<dt>Nodular</dt>\n",
       "\t\t<dd>0.428218292869317</dd>\n",
       "\t<dt>Superficial</dt>\n",
       "\t\t<dd>0.820260380645341</dd>\n",
       "</dl>\n",
       "</dd>\n",
       "\t<dt>$site</dt>\n",
       "\t\t<dd><dl class=dl-horizontal>\n",
       "\t<dt>Extremeties</dt>\n",
       "\t\t<dd>0.652707733085466</dd>\n",
       "\t<dt>HeadNeck</dt>\n",
       "\t\t<dd>-0.548319561010713</dd>\n",
       "\t<dt>Trunk</dt>\n",
       "\t\t<dd>-0.104388172074753</dd>\n",
       "</dl>\n",
       "</dd>\n",
       "</dl>\n"
      ],
      "text/latex": [
       "\\begin{description}\n",
       "\\item[\\$`(Intercept)`] 3.17645816351182\n",
       "\\item[\\$type] \\begin{description*}\n",
       "\\item[Huchinctons] -0.873734919816823\n",
       "\\item[Intermediate] -0.374743753697835\n",
       "\\item[Nodular] 0.428218292869317\n",
       "\\item[Superficial] 0.820260380645341\n",
       "\\end{description*}\n",
       "\n",
       "\\item[\\$site] \\begin{description*}\n",
       "\\item[Extremeties] 0.652707733085466\n",
       "\\item[HeadNeck] -0.548319561010713\n",
       "\\item[Trunk] -0.104388172074753\n",
       "\\end{description*}\n",
       "\n",
       "\\end{description}\n"
      ],
      "text/markdown": [
       "$`(Intercept)`\n",
       ":   3.17645816351182\n",
       "$type\n",
       ":   Huchinctons\n",
       ":   -0.873734919816823Intermediate\n",
       ":   -0.374743753697835Nodular\n",
       ":   0.428218292869317Superficial\n",
       ":   0.820260380645341\n",
       "\n",
       "\n",
       "$site\n",
       ":   Extremeties\n",
       ":   0.652707733085466HeadNeck\n",
       ":   -0.548319561010713Trunk\n",
       ":   -0.104388172074753\n",
       "\n",
       "\n",
       "\n",
       "\n"
      ],
      "text/plain": [
       "$`(Intercept)`\n",
       "[1] 3.176458\n",
       "\n",
       "$type\n",
       " Huchinctons Intermediate      Nodular  Superficial \n",
       "  -0.8737349   -0.3747438    0.4282183    0.8202604 \n",
       "\n",
       "$site\n",
       "Extremeties    HeadNeck       Trunk \n",
       "  0.6527077  -0.5483196  -0.1043882 \n"
      ]
     },
     "metadata": {},
     "output_type": "display_data"
    },
    {
     "data": {
      "text/plain": [
       "              site\n",
       "type           Extremeties HeadNeck   Trunk\n",
       "  Huchinctons       19.210    5.780   9.010\n",
       "  Intermediate      31.640    9.520  14.840\n",
       "  Nodular           70.625   21.250  33.125\n",
       "  Superficial      104.525   31.450  49.025"
      ]
     },
     "metadata": {},
     "output_type": "display_data"
    }
   ],
   "source": [
    "fit$pearson\n",
    "fit$lrt\n",
    "fit$param\n",
    "fit$fit"
   ]
  },
  {
   "cell_type": "code",
   "execution_count": 161,
   "metadata": {},
   "outputs": [],
   "source": [
    "library(MASS)"
   ]
  },
  {
   "cell_type": "code",
   "execution_count": 162,
   "metadata": {},
   "outputs": [],
   "source": [
    "fit1 = loglm(~ 1 + 2 , data=myTable)"
   ]
  },
  {
   "cell_type": "code",
   "execution_count": 163,
   "metadata": {},
   "outputs": [
    {
     "data": {
      "text/html": [
       "<ol class=list-inline>\n",
       "\t<li>'lrt'</li>\n",
       "\t<li>'pearson'</li>\n",
       "\t<li>'df'</li>\n",
       "\t<li>'margin'</li>\n",
       "\t<li>'param'</li>\n",
       "\t<li>'call'</li>\n",
       "\t<li>'formula'</li>\n",
       "\t<li>'deviance'</li>\n",
       "\t<li>'nobs'</li>\n",
       "\t<li>'terms'</li>\n",
       "</ol>\n"
      ],
      "text/latex": [
       "\\begin{enumerate*}\n",
       "\\item 'lrt'\n",
       "\\item 'pearson'\n",
       "\\item 'df'\n",
       "\\item 'margin'\n",
       "\\item 'param'\n",
       "\\item 'call'\n",
       "\\item 'formula'\n",
       "\\item 'deviance'\n",
       "\\item 'nobs'\n",
       "\\item 'terms'\n",
       "\\end{enumerate*}\n"
      ],
      "text/markdown": [
       "1. 'lrt'\n",
       "2. 'pearson'\n",
       "3. 'df'\n",
       "4. 'margin'\n",
       "5. 'param'\n",
       "6. 'call'\n",
       "7. 'formula'\n",
       "8. 'deviance'\n",
       "9. 'nobs'\n",
       "10. 'terms'\n",
       "\n",
       "\n"
      ],
      "text/plain": [
       " [1] \"lrt\"      \"pearson\"  \"df\"       \"margin\"   \"param\"    \"call\"    \n",
       " [7] \"formula\"  \"deviance\" \"nobs\"     \"terms\"   "
      ]
     },
     "metadata": {},
     "output_type": "display_data"
    }
   ],
   "source": [
    "names(fit1)"
   ]
  },
  {
   "cell_type": "code",
   "execution_count": 164,
   "metadata": {},
   "outputs": [
    {
     "data": {
      "text/html": [
       "<dl>\n",
       "\t<dt>$`(Intercept)`</dt>\n",
       "\t\t<dd>3.17645816351182</dd>\n",
       "\t<dt>$type</dt>\n",
       "\t\t<dd><dl class=dl-horizontal>\n",
       "\t<dt>Huchinctons</dt>\n",
       "\t\t<dd>-0.873734919816823</dd>\n",
       "\t<dt>Intermediate</dt>\n",
       "\t\t<dd>-0.374743753697835</dd>\n",
       "\t<dt>Nodular</dt>\n",
       "\t\t<dd>0.428218292869317</dd>\n",
       "\t<dt>Superficial</dt>\n",
       "\t\t<dd>0.820260380645341</dd>\n",
       "</dl>\n",
       "</dd>\n",
       "\t<dt>$site</dt>\n",
       "\t\t<dd><dl class=dl-horizontal>\n",
       "\t<dt>Extremeties</dt>\n",
       "\t\t<dd>0.652707733085466</dd>\n",
       "\t<dt>HeadNeck</dt>\n",
       "\t\t<dd>-0.548319561010713</dd>\n",
       "\t<dt>Trunk</dt>\n",
       "\t\t<dd>-0.104388172074753</dd>\n",
       "</dl>\n",
       "</dd>\n",
       "</dl>\n"
      ],
      "text/latex": [
       "\\begin{description}\n",
       "\\item[\\$`(Intercept)`] 3.17645816351182\n",
       "\\item[\\$type] \\begin{description*}\n",
       "\\item[Huchinctons] -0.873734919816823\n",
       "\\item[Intermediate] -0.374743753697835\n",
       "\\item[Nodular] 0.428218292869317\n",
       "\\item[Superficial] 0.820260380645341\n",
       "\\end{description*}\n",
       "\n",
       "\\item[\\$site] \\begin{description*}\n",
       "\\item[Extremeties] 0.652707733085466\n",
       "\\item[HeadNeck] -0.548319561010713\n",
       "\\item[Trunk] -0.104388172074753\n",
       "\\end{description*}\n",
       "\n",
       "\\end{description}\n"
      ],
      "text/markdown": [
       "$`(Intercept)`\n",
       ":   3.17645816351182\n",
       "$type\n",
       ":   Huchinctons\n",
       ":   -0.873734919816823Intermediate\n",
       ":   -0.374743753697835Nodular\n",
       ":   0.428218292869317Superficial\n",
       ":   0.820260380645341\n",
       "\n",
       "\n",
       "$site\n",
       ":   Extremeties\n",
       ":   0.652707733085466HeadNeck\n",
       ":   -0.548319561010713Trunk\n",
       ":   -0.104388172074753\n",
       "\n",
       "\n",
       "\n",
       "\n"
      ],
      "text/plain": [
       "$`(Intercept)`\n",
       "[1] 3.176458\n",
       "\n",
       "$type\n",
       " Huchinctons Intermediate      Nodular  Superficial \n",
       "  -0.8737349   -0.3747438    0.4282183    0.8202604 \n",
       "\n",
       "$site\n",
       "Extremeties    HeadNeck       Trunk \n",
       "  0.6527077  -0.5483196  -0.1043882 \n"
      ]
     },
     "metadata": {},
     "output_type": "display_data"
    }
   ],
   "source": [
    "fit1$param"
   ]
  },
  {
   "cell_type": "code",
   "execution_count": 118,
   "metadata": {},
   "outputs": [
    {
     "data": {
      "text/html": [
       "<ol class=list-inline>\n",
       "\t<li>'lrt'</li>\n",
       "\t<li>'pearson'</li>\n",
       "\t<li>'df'</li>\n",
       "\t<li>'margin'</li>\n",
       "\t<li>'param'</li>\n",
       "\t<li>'call'</li>\n",
       "\t<li>'formula'</li>\n",
       "\t<li>'deviance'</li>\n",
       "\t<li>'nobs'</li>\n",
       "\t<li>'terms'</li>\n",
       "</ol>\n"
      ],
      "text/latex": [
       "\\begin{enumerate*}\n",
       "\\item 'lrt'\n",
       "\\item 'pearson'\n",
       "\\item 'df'\n",
       "\\item 'margin'\n",
       "\\item 'param'\n",
       "\\item 'call'\n",
       "\\item 'formula'\n",
       "\\item 'deviance'\n",
       "\\item 'nobs'\n",
       "\\item 'terms'\n",
       "\\end{enumerate*}\n"
      ],
      "text/markdown": [
       "1. 'lrt'\n",
       "2. 'pearson'\n",
       "3. 'df'\n",
       "4. 'margin'\n",
       "5. 'param'\n",
       "6. 'call'\n",
       "7. 'formula'\n",
       "8. 'deviance'\n",
       "9. 'nobs'\n",
       "10. 'terms'\n",
       "\n",
       "\n"
      ],
      "text/plain": [
       " [1] \"lrt\"      \"pearson\"  \"df\"       \"margin\"   \"param\"    \"call\"    \n",
       " [7] \"formula\"  \"deviance\" \"nobs\"     \"terms\"   "
      ]
     },
     "metadata": {},
     "output_type": "display_data"
    }
   ],
   "source": [
    "names(fit1)"
   ]
  },
  {
   "cell_type": "code",
   "execution_count": null,
   "metadata": {},
   "outputs": [],
   "source": []
  }
 ],
 "metadata": {
  "kernelspec": {
   "display_name": "R",
   "language": "R",
   "name": "ir"
  },
  "language_info": {
   "codemirror_mode": "r",
   "file_extension": ".r",
   "mimetype": "text/x-r-source",
   "name": "R",
   "pygments_lexer": "r",
   "version": "3.4.1"
  }
 },
 "nbformat": 4,
 "nbformat_minor": 2
}
