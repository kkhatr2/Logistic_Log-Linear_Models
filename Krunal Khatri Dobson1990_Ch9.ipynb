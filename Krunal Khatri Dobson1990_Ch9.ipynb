{
 "cells": [
  {
   "cell_type": "markdown",
   "metadata": {},
   "source": [
    "## Exercise 9.1"
   ]
  },
  {
   "cell_type": "code",
   "execution_count": 407,
   "metadata": {},
   "outputs": [],
   "source": [
    "library(MASS)\n",
    "library(ggplot2)\n",
    "library(scales)"
   ]
  },
  {
   "cell_type": "code",
   "execution_count": 2,
   "metadata": {},
   "outputs": [],
   "source": [
    "vaccine = data.frame(trt = c(rep(\"Placebo\", 38), rep(\"Vaccine\", 35)),\n",
    "                     response = c(rep(\"Small\", 25), rep(\"Moderate\", 8), rep(\"Large\", 5),\n",
    "                                  rep(\"Small\", 6), rep(\"Moderate\", 18), rep(\"Large\", 11)))"
   ]
  },
  {
   "cell_type": "code",
   "execution_count": 28,
   "metadata": {},
   "outputs": [
    {
     "data": {
      "text/html": [
       "<table>\n",
       "<thead><tr><th></th><th scope=col>Large</th><th scope=col>Moderate</th><th scope=col>Small</th><th scope=col>Sum</th></tr></thead>\n",
       "<tbody>\n",
       "\t<tr><th scope=row>Placebo</th><td> 5</td><td> 8</td><td>25</td><td>38</td></tr>\n",
       "\t<tr><th scope=row>Vaccine</th><td>11</td><td>18</td><td> 6</td><td>35</td></tr>\n",
       "\t<tr><th scope=row>Sum</th><td>16</td><td>26</td><td>31</td><td>73</td></tr>\n",
       "</tbody>\n",
       "</table>\n"
      ],
      "text/latex": [
       "\\begin{tabular}{r|llll}\n",
       "  & Large & Moderate & Small & Sum\\\\\n",
       "\\hline\n",
       "\tPlacebo &  5 &  8 & 25 & 38\\\\\n",
       "\tVaccine & 11 & 18 &  6 & 35\\\\\n",
       "\tSum & 16 & 26 & 31 & 73\\\\\n",
       "\\end{tabular}\n"
      ],
      "text/markdown": [
       "\n",
       "| <!--/--> | Large | Moderate | Small | Sum | \n",
       "|---|---|---|\n",
       "| Placebo |  5 |  8 | 25 | 38 | \n",
       "| Vaccine | 11 | 18 |  6 | 35 | \n",
       "| Sum | 16 | 26 | 31 | 73 | \n",
       "\n",
       "\n"
      ],
      "text/plain": [
       "         response\n",
       "trt       Large Moderate Small Sum\n",
       "  Placebo  5     8       25    38 \n",
       "  Vaccine 11    18        6    35 \n",
       "  Sum     16    26       31    73 "
      ]
     },
     "metadata": {},
     "output_type": "display_data"
    }
   ],
   "source": [
    "vacTab = table(vaccine)\n",
    "addmargins(table(vaccine))"
   ]
  },
  {
   "cell_type": "markdown",
   "metadata": {},
   "source": [
    "### A: H0: Response is independent of Placebo and Vaccine, i.e. Rows and colums are independent\n",
    "#### 1. Using Contigency Table approach"
   ]
  },
  {
   "cell_type": "code",
   "execution_count": 29,
   "metadata": {},
   "outputs": [],
   "source": [
    "con_test = chisq.test(vacTab)"
   ]
  },
  {
   "cell_type": "code",
   "execution_count": 193,
   "metadata": {},
   "outputs": [
    {
     "name": "stdout",
     "output_type": "stream",
     "text": [
      "            Expected               Observed"
     ]
    },
    {
     "data": {
      "text/html": [
       "<table>\n",
       "<thead><tr><th></th><th scope=col>Large</th><th scope=col>Moderate</th><th scope=col>Small</th><th scope=col>Large</th><th scope=col>Moderate</th><th scope=col>Small</th></tr></thead>\n",
       "<tbody>\n",
       "\t<tr><th scope=row>Placebo</th><td>8.328767</td><td>13.53425</td><td>16.13699</td><td> 5      </td><td> 8      </td><td>25      </td></tr>\n",
       "\t<tr><th scope=row>Vaccine</th><td>7.671233</td><td>12.46575</td><td>14.86301</td><td>11      </td><td>18      </td><td> 6      </td></tr>\n",
       "</tbody>\n",
       "</table>\n"
      ],
      "text/latex": [
       "\\begin{tabular}{r|llllll}\n",
       "  & Large & Moderate & Small & Large & Moderate & Small\\\\\n",
       "\\hline\n",
       "\tPlacebo & 8.328767 & 13.53425 & 16.13699 &  5       &  8       & 25      \\\\\n",
       "\tVaccine & 7.671233 & 12.46575 & 14.86301 & 11       & 18       &  6      \\\\\n",
       "\\end{tabular}\n"
      ],
      "text/markdown": [
       "\n",
       "| <!--/--> | Large | Moderate | Small | Large | Moderate | Small | \n",
       "|---|---|\n",
       "| Placebo | 8.328767 | 13.53425 | 16.13699 |  5       |  8       | 25       | \n",
       "| Vaccine | 7.671233 | 12.46575 | 14.86301 | 11       | 18       |  6       | \n",
       "\n",
       "\n"
      ],
      "text/plain": [
       "        Large    Moderate Small    Large Moderate Small\n",
       "Placebo 8.328767 13.53425 16.13699  5     8       25   \n",
       "Vaccine 7.671233 12.46575 14.86301 11    18        6   "
      ]
     },
     "metadata": {},
     "output_type": "display_data"
    }
   ],
   "source": [
    "cat(\"            Expected               Observed\")\n",
    "cbind(con_test$expected, con_test$observed)"
   ]
  },
  {
   "cell_type": "code",
   "execution_count": 536,
   "metadata": {},
   "outputs": [
    {
     "data": {
      "text/plain": [
       "\n",
       "\tPearson's Chi-squared test\n",
       "\n",
       "data:  vacTab\n",
       "X-squared = 17.648, df = 2, p-value = 0.0001472\n"
      ]
     },
     "metadata": {},
     "output_type": "display_data"
    },
    {
     "data": {
      "text/html": [
       "<table>\n",
       "<thead><tr><th scope=col>trt</th><th scope=col>response</th><th scope=col>Freq</th></tr></thead>\n",
       "<tbody>\n",
       "\t<tr><td>Placebo  </td><td>Large    </td><td>-1.153435</td></tr>\n",
       "\t<tr><td>Vaccine  </td><td>Large    </td><td> 1.201852</td></tr>\n",
       "\t<tr><td>Placebo  </td><td>Moderate </td><td>-1.504324</td></tr>\n",
       "\t<tr><td>Vaccine  </td><td>Moderate </td><td> 1.567470</td></tr>\n",
       "\t<tr><td>Placebo  </td><td>Small    </td><td> 2.206329</td></tr>\n",
       "\t<tr><td>Vaccine  </td><td>Small    </td><td>-2.298942</td></tr>\n",
       "</tbody>\n",
       "</table>\n"
      ],
      "text/latex": [
       "\\begin{tabular}{r|lll}\n",
       " trt & response & Freq\\\\\n",
       "\\hline\n",
       "\t Placebo   & Large     & -1.153435\\\\\n",
       "\t Vaccine   & Large     &  1.201852\\\\\n",
       "\t Placebo   & Moderate  & -1.504324\\\\\n",
       "\t Vaccine   & Moderate  &  1.567470\\\\\n",
       "\t Placebo   & Small     &  2.206329\\\\\n",
       "\t Vaccine   & Small     & -2.298942\\\\\n",
       "\\end{tabular}\n"
      ],
      "text/markdown": [
       "\n",
       "trt | response | Freq | \n",
       "|---|---|---|---|---|---|\n",
       "| Placebo   | Large     | -1.153435 | \n",
       "| Vaccine   | Large     |  1.201852 | \n",
       "| Placebo   | Moderate  | -1.504324 | \n",
       "| Vaccine   | Moderate  |  1.567470 | \n",
       "| Placebo   | Small     |  2.206329 | \n",
       "| Vaccine   | Small     | -2.298942 | \n",
       "\n",
       "\n"
      ],
      "text/plain": [
       "  trt     response Freq     \n",
       "1 Placebo Large    -1.153435\n",
       "2 Vaccine Large     1.201852\n",
       "3 Placebo Moderate -1.504324\n",
       "4 Vaccine Moderate  1.567470\n",
       "5 Placebo Small     2.206329\n",
       "6 Vaccine Small    -2.298942"
      ]
     },
     "metadata": {},
     "output_type": "display_data"
    }
   ],
   "source": [
    "con_test\n",
    "data.frame(residuals(con_test, \"deviance\"))"
   ]
  },
  {
   "cell_type": "markdown",
   "metadata": {},
   "source": [
    "## Conclusion using the contigency table test:\n",
    "### Treatments and response are not independent. i.e Response is dependent on treatment\n",
    "### Standarized Residuals show high departure from observed frequencies."
   ]
  },
  {
   "cell_type": "markdown",
   "metadata": {},
   "source": [
    "#### 2. Using log-linear model"
   ]
  },
  {
   "cell_type": "code",
   "execution_count": 184,
   "metadata": {},
   "outputs": [
    {
     "name": "stdout",
     "output_type": "stream",
     "text": [
      "2 iterations: deviation 0 \n"
     ]
    }
   ],
   "source": [
    "log_lin = loglin(vacTab, margin=c(c(1,2)), print=T, param=T, fit=T)"
   ]
  },
  {
   "cell_type": "code",
   "execution_count": 185,
   "metadata": {},
   "outputs": [
    {
     "name": "stdout",
     "output_type": "stream",
     "text": [
      "Log-Likelihood Ratio Statistic: D =  18.64253\n",
      "Chi-Squared Statistic: X^2 =  17.64783\n",
      "Both the above Statistics with degrees of freedom =  2"
     ]
    }
   ],
   "source": [
    "cat(\"Log-Likelihood Ratio Statistic: D = \",log_lin$lrt)\n",
    "cat(\"\\nChi-Squared Statistic: X^2 = \", log_lin$pearson)\n",
    "cat(\"\\nBoth the above Statistics with degrees of freedom = \",log_lin$df)"
   ]
  },
  {
   "cell_type": "code",
   "execution_count": 186,
   "metadata": {},
   "outputs": [
    {
     "name": "stdout",
     "output_type": "stream",
     "text": [
      "           Expected                 Observed"
     ]
    },
    {
     "data": {
      "text/html": [
       "<table>\n",
       "<thead><tr><th></th><th scope=col>Large</th><th scope=col>Moderate</th><th scope=col>Small</th><th scope=col>Large</th><th scope=col>Moderate</th><th scope=col>Small</th></tr></thead>\n",
       "<tbody>\n",
       "\t<tr><th scope=row>Placebo</th><td>8.328767</td><td>13.53425</td><td>16.13699</td><td> 5      </td><td> 8      </td><td>25      </td></tr>\n",
       "\t<tr><th scope=row>Vaccine</th><td>7.671233</td><td>12.46575</td><td>14.86301</td><td>11      </td><td>18      </td><td> 6      </td></tr>\n",
       "</tbody>\n",
       "</table>\n"
      ],
      "text/latex": [
       "\\begin{tabular}{r|llllll}\n",
       "  & Large & Moderate & Small & Large & Moderate & Small\\\\\n",
       "\\hline\n",
       "\tPlacebo & 8.328767 & 13.53425 & 16.13699 &  5       &  8       & 25      \\\\\n",
       "\tVaccine & 7.671233 & 12.46575 & 14.86301 & 11       & 18       &  6      \\\\\n",
       "\\end{tabular}\n"
      ],
      "text/markdown": [
       "\n",
       "| <!--/--> | Large | Moderate | Small | Large | Moderate | Small | \n",
       "|---|---|\n",
       "| Placebo | 8.328767 | 13.53425 | 16.13699 |  5       |  8       | 25       | \n",
       "| Vaccine | 7.671233 | 12.46575 | 14.86301 | 11       | 18       |  6       | \n",
       "\n",
       "\n"
      ],
      "text/plain": [
       "        Large    Moderate Small    Large Moderate Small\n",
       "Placebo 8.328767 13.53425 16.13699  5     8       25   \n",
       "Vaccine 7.671233 12.46575 14.86301 11    18        6   "
      ]
     },
     "metadata": {},
     "output_type": "display_data"
    }
   ],
   "source": [
    "cat(\"           Expected                 Observed\")\n",
    "cbind(log_lin$fit, table(vaccine))"
   ]
  },
  {
   "cell_type": "code",
   "execution_count": 539,
   "metadata": {},
   "outputs": [
    {
     "name": "stdout",
     "output_type": "stream",
     "text": [
      "         ____|Standarized Residuals|____"
     ]
    },
    {
     "data": {
      "text/plain": [
       "        response     Large  Moderate     Small\n",
       "trt                                           \n",
       "Placebo          -1.153435 -1.504324  2.206329\n",
       "Vaccine           1.201852  1.567470 -2.298942"
      ]
     },
     "metadata": {},
     "output_type": "display_data"
    }
   ],
   "source": [
    "cat( \"         ____|Standarized Residuals|____\")\n",
    "ftable(vacTab - log_lin$fit)/sqrt(log_lin$fit)"
   ]
  },
  {
   "cell_type": "markdown",
   "metadata": {},
   "source": [
    "##### Residuals show that the model is overestimating Placebo responses for Large and Moderate effect, underestimating Vaccine responses for Large and Moderate responses, and the exact opposite for Placebo and Vaccine for small response."
   ]
  },
  {
   "cell_type": "code",
   "execution_count": 188,
   "metadata": {},
   "outputs": [
    {
     "data": {
      "text/html": [
       "<dl>\n",
       "\t<dt>$`(Intercept)`</dt>\n",
       "\t\t<dd>2.46089849104164</dd>\n",
       "\t<dt>$trt</dt>\n",
       "\t\t<dd><dl class=dl-horizontal>\n",
       "\t<dt>Placebo</dt>\n",
       "\t\t<dd>0.0411190491184863</dd>\n",
       "\t<dt>Vaccine</dt>\n",
       "\t\t<dd>-0.0411190491184859</dd>\n",
       "</dl>\n",
       "</dd>\n",
       "\t<dt>$response</dt>\n",
       "\t\t<dd><dl class=dl-horizontal>\n",
       "\t<dt>Large</dt>\n",
       "\t\t<dd>-0.382302099342355</dd>\n",
       "\t<dt>Moderate</dt>\n",
       "\t\t<dd>0.103205716439346</dd>\n",
       "\t<dt>Small</dt>\n",
       "\t\t<dd>0.27909638290301</dd>\n",
       "</dl>\n",
       "</dd>\n",
       "</dl>\n"
      ],
      "text/latex": [
       "\\begin{description}\n",
       "\\item[\\$`(Intercept)`] 2.46089849104164\n",
       "\\item[\\$trt] \\begin{description*}\n",
       "\\item[Placebo] 0.0411190491184863\n",
       "\\item[Vaccine] -0.0411190491184859\n",
       "\\end{description*}\n",
       "\n",
       "\\item[\\$response] \\begin{description*}\n",
       "\\item[Large] -0.382302099342355\n",
       "\\item[Moderate] 0.103205716439346\n",
       "\\item[Small] 0.27909638290301\n",
       "\\end{description*}\n",
       "\n",
       "\\end{description}\n"
      ],
      "text/markdown": [
       "$`(Intercept)`\n",
       ":   2.46089849104164\n",
       "$trt\n",
       ":   Placebo\n",
       ":   0.0411190491184863Vaccine\n",
       ":   -0.0411190491184859\n",
       "\n",
       "\n",
       "$response\n",
       ":   Large\n",
       ":   -0.382302099342355Moderate\n",
       ":   0.103205716439346Small\n",
       ":   0.27909638290301\n",
       "\n",
       "\n",
       "\n",
       "\n"
      ],
      "text/plain": [
       "$`(Intercept)`\n",
       "[1] 2.460898\n",
       "\n",
       "$trt\n",
       "    Placebo     Vaccine \n",
       " 0.04111905 -0.04111905 \n",
       "\n",
       "$response\n",
       "     Large   Moderate      Small \n",
       "-0.3823021  0.1032057  0.2790964 \n"
      ]
     },
     "metadata": {},
     "output_type": "display_data"
    }
   ],
   "source": [
    "log_lin$param"
   ]
  },
  {
   "cell_type": "markdown",
   "metadata": {},
   "source": [
    "### Model: ada (j,k) = mu + alpha (i) + beta (j)\n",
    "#### In the fitted Model:\n",
    "#### mu = Intercept = 2.461\n",
    "#### alpha1 = Placebo = 0.041 | alpha2 = Vaccine = -0.041\n",
    "#### beta1 = Large = -0.382 | beta2 = Moderate = 0.103 | beta3 = Small = 0.279\n",
    "#### To get the expected count for Placebo with Large response, use: exp(2.461+0.041-0.382) = 8.33\n",
    "#### Likelihood Ratio Statistic: D = 18.64 and Chi-Squared statistic: X^2 = 17.64 | d.f = 2\n",
    "## Conclusion:\n",
    "### The chi-squared statistic is significant thus, the interaction effect cannot be ignored, and responses differ for the placebo and vaccine groups\n",
    "\n",
    "# Exercise 9.2"
   ]
  },
  {
   "cell_type": "code",
   "execution_count": 350,
   "metadata": {},
   "outputs": [
    {
     "data": {
      "text/html": [
       "<ol class=list-inline>\n",
       "\t<li>1681</li>\n",
       "\t<li>3</li>\n",
       "</ol>\n"
      ],
      "text/latex": [
       "\\begin{enumerate*}\n",
       "\\item 1681\n",
       "\\item 3\n",
       "\\end{enumerate*}\n"
      ],
      "text/markdown": [
       "1. 1681\n",
       "2. 3\n",
       "\n",
       "\n"
      ],
      "text/plain": [
       "[1] 1681    3"
      ]
     },
     "metadata": {},
     "output_type": "display_data"
    }
   ],
   "source": [
    "ContactOtherResidents = c(rep(\"Low\",65+54+100+130+76+111+67+48+62),rep(\"High\",34+47+100+141+116+191+130+105+104))\n",
    "\n",
    "Satisfaction=c(rep(\"Low\",65+130+67),rep(\"Meduim\",54+76+48),rep(\"High\",100+111+62),\n",
    "                                  rep(\"Low\",34+141+130),rep(\"Meduim\",47+116+105),rep(\"High\",100+191+104))\n",
    "\n",
    "HousingType = c(rep(\"Tower_Block\",65),rep(\"Apartments\",130),rep(\"Houses\",67),\n",
    "               rep(\"Tower_Block\",54),rep(\"Apartments\",76),rep(\"Houses\",48),\n",
    "               rep(\"Tower_Block\",100),rep(\"Apartments\",111),rep(\"Houses\",62),\n",
    "               rep(\"Tower_Block\",34),rep(\"Apartments\",141),rep(\"Houses\",130),\n",
    "               rep(\"Tower_Block\",47),rep(\"Apartments\",116),rep(\"Houses\",105),\n",
    "               rep(\"Tower_Block\",100),rep(\"Apartments\",191),rep(\"Houses\",104))\n",
    "\n",
    "housing = data.frame(HousingType, Satisfaction, ContactOtherResidents)\n",
    "dim(housing)"
   ]
  },
  {
   "cell_type": "code",
   "execution_count": 351,
   "metadata": {},
   "outputs": [
    {
     "data": {
      "text/plain": [
       "\n",
       " Apartments      Houses Tower_Block \n",
       "        765         516         400 "
      ]
     },
     "metadata": {},
     "output_type": "display_data"
    }
   ],
   "source": [
    "table(housing$HousingType)"
   ]
  },
  {
   "cell_type": "code",
   "execution_count": 352,
   "metadata": {},
   "outputs": [
    {
     "name": "stdout",
     "output_type": "stream",
     "text": [
      "Percentage of places where people lived and their contact with other residents"
     ]
    },
    {
     "data": {
      "text/plain": [
       "      \n",
       "       Apartments Houses Tower_Block\n",
       "  High      58.56  65.70       45.25\n",
       "  Low       41.44  34.30       54.75"
      ]
     },
     "metadata": {},
     "output_type": "display_data"
    }
   ],
   "source": [
    "cat(\"Percentage of places where people lived and their contact with other residents\")\n",
    "round(prop.table(table(housing$ContactOtherResidents, housing$HousingType), 2) * 100, 2)"
   ]
  },
  {
   "cell_type": "markdown",
   "metadata": {},
   "source": [
    "### Of all the people living in Tower Blocks 50% had High satisfaction, of all the people living in Houses 38.18 % op people had High satisfaction and of all the people living in Apartments 39.48 % of people had High satisfaction."
   ]
  },
  {
   "cell_type": "code",
   "execution_count": 405,
   "metadata": {},
   "outputs": [
    {
     "name": "stdout",
     "output_type": "stream",
     "text": [
      "Rows = Satisfaction Level\n",
      "Columns = Housing Type\n",
      "\n",
      "        Column Totals                       Row Totals"
     ]
    },
    {
     "data": {
      "text/html": [
       "<table>\n",
       "<thead><tr><th></th><th scope=col>Apartments</th><th scope=col>Houses</th><th scope=col>Tower_Block</th><th scope=col>Sum</th><th scope=col>Apartments</th><th scope=col>Houses</th><th scope=col>Tower_Block</th><th scope=col>Sum</th></tr></thead>\n",
       "<tbody>\n",
       "\t<tr><th scope=row>High</th><td> 39.48</td><td> 32.17</td><td> 50.00</td><td>121.65</td><td> 45.21</td><td>24.85 </td><td>29.94 </td><td>100   </td></tr>\n",
       "\t<tr><th scope=row>Low</th><td> 35.42</td><td> 38.18</td><td> 24.75</td><td> 98.35</td><td> 47.80</td><td>34.74 </td><td>17.46 </td><td>100   </td></tr>\n",
       "\t<tr><th scope=row>Meduim</th><td> 25.10</td><td> 29.65</td><td> 25.25</td><td> 80.00</td><td> 43.05</td><td>34.30 </td><td>22.65 </td><td>100   </td></tr>\n",
       "\t<tr><th scope=row>Sum</th><td>100.00</td><td>100.00</td><td>100.00</td><td>300.00</td><td>136.05</td><td>93.90 </td><td>70.05 </td><td>300   </td></tr>\n",
       "</tbody>\n",
       "</table>\n"
      ],
      "text/latex": [
       "\\begin{tabular}{r|llllllll}\n",
       "  & Apartments & Houses & Tower\\_Block & Sum & Apartments & Houses & Tower\\_Block & Sum\\\\\n",
       "\\hline\n",
       "\tHigh &  39.48 &  32.17 &  50.00 & 121.65 &  45.21 & 24.85  & 29.94  & 100   \\\\\n",
       "\tLow &  35.42 &  38.18 &  24.75 &  98.35 &  47.80 & 34.74  & 17.46  & 100   \\\\\n",
       "\tMeduim &  25.10 &  29.65 &  25.25 &  80.00 &  43.05 & 34.30  & 22.65  & 100   \\\\\n",
       "\tSum & 100.00 & 100.00 & 100.00 & 300.00 & 136.05 & 93.90  & 70.05  & 300   \\\\\n",
       "\\end{tabular}\n"
      ],
      "text/markdown": [
       "\n",
       "| <!--/--> | Apartments | Houses | Tower_Block | Sum | Apartments | Houses | Tower_Block | Sum | \n",
       "|---|---|---|---|\n",
       "| High |  39.48 |  32.17 |  50.00 | 121.65 |  45.21 | 24.85  | 29.94  | 100    | \n",
       "| Low |  35.42 |  38.18 |  24.75 |  98.35 |  47.80 | 34.74  | 17.46  | 100    | \n",
       "| Meduim |  25.10 |  29.65 |  25.25 |  80.00 |  43.05 | 34.30  | 22.65  | 100    | \n",
       "| Sum | 100.00 | 100.00 | 100.00 | 300.00 | 136.05 | 93.90  | 70.05  | 300    | \n",
       "\n",
       "\n"
      ],
      "text/plain": [
       "       Apartments Houses Tower_Block Sum    Apartments Houses Tower_Block Sum\n",
       "High    39.48      32.17  50.00      121.65  45.21     24.85  29.94       100\n",
       "Low     35.42      38.18  24.75       98.35  47.80     34.74  17.46       100\n",
       "Meduim  25.10      29.65  25.25       80.00  43.05     34.30  22.65       100\n",
       "Sum    100.00     100.00 100.00      300.00 136.05     93.90  70.05       300"
      ]
     },
     "metadata": {},
     "output_type": "display_data"
    },
    {
     "data": {},
     "metadata": {},
     "output_type": "display_data"
    },
    {
     "data": {
      "image/png": "[encoded data removed]",
      "text/plain": [
       "plot without title"
      ]
     },
     "metadata": {},
     "output_type": "display_data"
    }
   ],
   "source": [
    "a = round(addmargins(prop.table(table(housing$Satisfaction, housing$HousingType),2)) * 100, 2)\n",
    "b = round(addmargins(prop.table(table(housing$Satisfaction, housing$HousingType),1)) * 100, 2)\n",
    "cat(\"Rows = Satisfaction Level\\nColumns = Housing Type\\n\\n        Column Totals                       Row Totals\")\n",
    "cbind(a,b)\n",
    "ggplot(housing, aes(Satisfaction)) +\n",
    "    geom_bar(aes(y = (..count..)/tapply(..count..,..PANEL..,sum)[..PANEL..], fill=HousingType)) +\n",
    "    labs(y=\"Percent\", title=\"People with Satisfaction ratings by Housing type\",\n",
    "        subtitle = \"Each housing type consists of 100% people for that housing type. (Column Totals)\") +\n",
    "    scale_y_continuous(labels=percent) +    \n",
    "    facet_wrap(~HousingType) +\n",
    "    theme(legend.position = \"none\")"
   ]
  },
  {
   "cell_type": "markdown",
   "metadata": {},
   "source": [
    "### Of all the people making within their own housing type, people living in Tower Blocks were significantly more Satisfied than people living in Houses or Apartments. "
   ]
  },
  {
   "cell_type": "code",
   "execution_count": 541,
   "metadata": {},
   "outputs": [
    {
     "name": "stdout",
     "output_type": "stream",
     "text": [
      "Rows = Contact with Other Residents\n",
      "Columns = Housing Types\n",
      "\n",
      "        Column Totals                    Row Totals"
     ]
    },
    {
     "data": {
      "text/html": [
       "<table>\n",
       "<thead><tr><th></th><th scope=col>Apartments</th><th scope=col>Houses</th><th scope=col>Tower_Block</th><th scope=col>Sum</th><th scope=col>Apartments</th><th scope=col>Houses</th><th scope=col>Tower_Block</th><th scope=col>Sum</th></tr></thead>\n",
       "<tbody>\n",
       "\t<tr><th scope=row>High</th><td> 58.56</td><td> 65.7 </td><td> 45.25</td><td>169.51</td><td>46.28 </td><td>35.02 </td><td>18.70 </td><td>100   </td></tr>\n",
       "\t<tr><th scope=row>Low</th><td> 41.44</td><td> 34.3 </td><td> 54.75</td><td>130.49</td><td>44.46 </td><td>24.82 </td><td>30.72 </td><td>100   </td></tr>\n",
       "\t<tr><th scope=row>Sum</th><td>100.00</td><td>100.0 </td><td>100.00</td><td>300.00</td><td>90.74 </td><td>59.85 </td><td>49.41 </td><td>200   </td></tr>\n",
       "</tbody>\n",
       "</table>\n"
      ],
      "text/latex": [
       "\\begin{tabular}{r|llllllll}\n",
       "  & Apartments & Houses & Tower\\_Block & Sum & Apartments & Houses & Tower\\_Block & Sum\\\\\n",
       "\\hline\n",
       "\tHigh &  58.56 &  65.7  &  45.25 & 169.51 & 46.28  & 35.02  & 18.70  & 100   \\\\\n",
       "\tLow &  41.44 &  34.3  &  54.75 & 130.49 & 44.46  & 24.82  & 30.72  & 100   \\\\\n",
       "\tSum & 100.00 & 100.0  & 100.00 & 300.00 & 90.74  & 59.85  & 49.41  & 200   \\\\\n",
       "\\end{tabular}\n"
      ],
      "text/markdown": [
       "\n",
       "| <!--/--> | Apartments | Houses | Tower_Block | Sum | Apartments | Houses | Tower_Block | Sum | \n",
       "|---|---|---|\n",
       "| High |  58.56 |  65.7  |  45.25 | 169.51 | 46.28  | 35.02  | 18.70  | 100    | \n",
       "| Low |  41.44 |  34.3  |  54.75 | 130.49 | 44.46  | 24.82  | 30.72  | 100    | \n",
       "| Sum | 100.00 | 100.0  | 100.00 | 300.00 | 90.74  | 59.85  | 49.41  | 200    | \n",
       "\n",
       "\n"
      ],
      "text/plain": [
       "     Apartments Houses Tower_Block Sum    Apartments Houses Tower_Block Sum\n",
       "High  58.56      65.7   45.25      169.51 46.28      35.02  18.70       100\n",
       "Low   41.44      34.3   54.75      130.49 44.46      24.82  30.72       100\n",
       "Sum  100.00     100.0  100.00      300.00 90.74      59.85  49.41       200"
      ]
     },
     "metadata": {},
     "output_type": "display_data"
    },
    {
     "data": {},
     "metadata": {},
     "output_type": "display_data"
    },
    {
     "data": {
      "image/png": "[encoded data removed]",
      "text/plain": [
       "plot without title"
      ]
     },
     "metadata": {},
     "output_type": "display_data"
    }
   ],
   "source": [
    "a = round(addmargins(prop.table(table(housing$ContactOtherResidents, housing$HousingType), 2)) * 100, 2)\n",
    "b = round(addmargins(prop.table(table(housing$ContactOtherResidents, housing$HousingType), 1)) * 100, 2)\n",
    "cat(\"Rows = Contact with Other Residents\\nColumns = Housing Types\\n\\n        Column Totals                    Row Totals\")\n",
    "cbind(a,b)\n",
    "ggplot(housing, aes(ContactOtherResidents)) +\n",
    "    geom_bar(aes(y = (..count..)/tapply(..count..,..PANEL..,sum)[..PANEL..], fill=HousingType)) +\n",
    "    labs(y=\"Percent\", x=\"Contact With Other Residents\", title=\"% People Contacting Other Residents for each Housing Type\",\n",
    "        subtitle = \"Each housing type consists of 100% people for that housing type. (Column Totals)\") +\n",
    "    scale_y_continuous(labels = percent) +\n",
    "    facet_wrap(~HousingType) +\n",
    "    theme(legend.position =\"none\")"
   ]
  },
  {
   "cell_type": "markdown",
   "metadata": {},
   "source": [
    "### Maybe a humorous point. People living in Houses and with LOW Satisfaction had surprisingly increased level of contact with fellow residents. I suppose they Argued with fellow residents a lot!"
   ]
  },
  {
   "cell_type": "code",
   "execution_count": 532,
   "metadata": {},
   "outputs": [
    {
     "data": {},
     "metadata": {},
     "output_type": "display_data"
    },
    {
     "data": {
      "image/png": "[encoded data removed]",
      "text/plain": [
       "plot without title"
      ]
     },
     "metadata": {},
     "output_type": "display_data"
    }
   ],
   "source": [
    "ggplot(housing, aes(ContactOtherResidents)) +\n",
    "    geom_bar(aes(y=..count../sum(..count..)),fill=\"skyblue\") +\n",
    "    scale_y_continuous(label=percent) +\n",
    "    labs(x = \"Contact with Other Residents\", y = \"Percent of Total\", \n",
    "         title=\"% of People who were in contact with Other Residents (% of total)\",\n",
    "         subtitle=\"                                                                Satisfaction\") +\n",
    "    facet_grid(HousingType~Satisfaction)"
   ]
  },
  {
   "cell_type": "markdown",
   "metadata": {},
   "source": [
    "### Fitting models"
   ]
  },
  {
   "cell_type": "code",
   "execution_count": 411,
   "metadata": {},
   "outputs": [],
   "source": [
    "tabData = table(housing)\n",
    "# 1 = Housing\n",
    "# 2 = Satisfaction\n",
    "# 3 = Contact"
   ]
  },
  {
   "cell_type": "code",
   "execution_count": 422,
   "metadata": {},
   "outputs": [],
   "source": [
    "fullModel = loglm(~ 1 + 2 + 3 + 1:2 + 1:3 + 2:3, data=tabData)\n",
    "Hinteraction = loglm(~ 1 + 2 + 3 + 1:2 + 1:3, data=tabData)\n",
    "HSInteraction = loglm(~ 1 + 2 + 3 + 1:2, data=tabData)\n",
    "simpleModel = loglm(~ 1 + 2 + 3, data=tabData)"
   ]
  },
  {
   "cell_type": "code",
   "execution_count": 526,
   "metadata": {},
   "outputs": [
    {
     "data": {
      "text/html": [
       "<table>\n",
       "<thead><tr><th></th><th scope=col>d.f</th><th scope=col>Pearson_Statistic</th><th scope=col>Likelihood_Ratio_Statistic</th></tr></thead>\n",
       "<tbody>\n",
       "\t<tr><th scope=row>2_Interactions</th><td> 4       </td><td> 6.932313</td><td> 6.893028</td></tr>\n",
       "\t<tr><th scope=row>Housing_Interaction</th><td> 6       </td><td>15.683252</td><td>15.760770</td></tr>\n",
       "\t<tr><th scope=row>Housing_*_Satisfaction</th><td> 8       </td><td>54.750671</td><td>54.818556</td></tr>\n",
       "\t<tr><th scope=row>Simple_Model</th><td>12       </td><td>85.347438</td><td>89.348114</td></tr>\n",
       "</tbody>\n",
       "</table>\n"
      ],
      "text/latex": [
       "\\begin{tabular}{r|lll}\n",
       "  & d.f & Pearson\\_Statistic & Likelihood\\_Ratio\\_Statistic\\\\\n",
       "\\hline\n",
       "\t2\\_Interactions &  4        &  6.932313 &  6.893028\\\\\n",
       "\tHousing\\_Interaction &  6        & 15.683252 & 15.760770\\\\\n",
       "\tHousing\\_*\\_Satisfaction &  8        & 54.750671 & 54.818556\\\\\n",
       "\tSimple\\_Model & 12        & 85.347438 & 89.348114\\\\\n",
       "\\end{tabular}\n"
      ],
      "text/markdown": [
       "\n",
       "| <!--/--> | d.f | Pearson_Statistic | Likelihood_Ratio_Statistic | \n",
       "|---|---|---|---|\n",
       "| 2_Interactions |  4        |  6.932313 |  6.893028 | \n",
       "| Housing_Interaction |  6        | 15.683252 | 15.760770 | \n",
       "| Housing_*_Satisfaction |  8        | 54.750671 | 54.818556 | \n",
       "| Simple_Model | 12        | 85.347438 | 89.348114 | \n",
       "\n",
       "\n"
      ],
      "text/plain": [
       "                       d.f Pearson_Statistic Likelihood_Ratio_Statistic\n",
       "2_Interactions          4   6.932313          6.893028                 \n",
       "Housing_Interaction     6  15.683252         15.760770                 \n",
       "Housing_*_Satisfaction  8  54.750671         54.818556                 \n",
       "Simple_Model           12  85.347438         89.348114                 "
      ]
     },
     "metadata": {},
     "output_type": "display_data"
    }
   ],
   "source": [
    "res = data.frame(d.f = c(fullModel$df, Hinteraction$df, HSInteraction$df, simpleModel$df),\n",
    "          Pearson_Statistic = c(fullModel$pearson, Hinteraction$pearson, HSInteraction$pearson, simpleModel$pearson),\n",
    "          Likelihood_Ratio_Statistic = c(fullModel$lrt, Hinteraction$lrt, HSInteraction$lrt, simpleModel$lrt))\n",
    "rownames(res) = c(\"2_Interactions\", \"Housing_Interaction\", \"Housing_*_Satisfaction\", \"Simple_Model\")\n",
    "res"
   ]
  },
  {
   "cell_type": "code",
   "execution_count": 462,
   "metadata": {},
   "outputs": [
    {
     "data": {
      "text/plain": [
       "LR tests for hierarchical log-linear models\n",
       "\n",
       "Model 1:\n",
       " ~1 + 2 + 3 \n",
       "Model 2:\n",
       " ~1 + 2 + 3 + 1:2 \n",
       "Model 3:\n",
       " ~1 + 2 + 3 + 1:2 + 1:3 \n",
       "Model 4:\n",
       " ~1 + 2 + 3 + 1:2 + 1:3 + 2:3 \n",
       "\n",
       "           Deviance df Delta(Dev) Delta(df) P(> Delta(Dev)\n",
       "Model 1   89.348114 12                                    \n",
       "Model 2   54.818556  8  34.529558         4        0.00000\n",
       "Model 3   15.760770  6  39.057787         2        0.00000\n",
       "Model 4    6.893028  4   8.867742         2        0.01187\n",
       "Saturated  0.000000  0   6.893028         4        0.14165"
      ]
     },
     "metadata": {},
     "output_type": "display_data"
    }
   ],
   "source": [
    "anova(fullModel, Hinteraction, HSInteraction, simpleModel)"
   ]
  },
  {
   "cell_type": "markdown",
   "metadata": {},
   "source": [
    "### Anova on the fitted models suggests that all 2 way interactions are significant. Thus, full model is the best fit. The saturated model will be the contigency table with (3-1) x (3-1) x (2-1) = 4 d.f. or the one with three way interactions as well.\n",
    "### ada(i,j,k)  = mu + alpha(i) + beta(j) + gamma(k) + (alpha x beta)(i,j) + (alpha x gamma)(i,k) + (beta x gamma)(j,k)\n",
    "#### Parameter Estimates are:\n",
    "#### mu = Intercept = 4.45\n",
    "#### alpha1 = Apartments = 0.37 | alpha2 = Houses = -0.05 | alpha3 = Tower Block = -0.31\n",
    "#### beta1 = Satisfaction(High) = 0.20 | beta2 = Satisfaction(Low) = 0.004 | beta3 = Satisfaction(Medium) = -0.20\n",
    "#### gamma1 = ContactOtherResidents(High) = 0.13 | gamma2 = ContactOtherResidents(Low) = -0.13"
   ]
  },
  {
   "cell_type": "code",
   "execution_count": 484,
   "metadata": {},
   "outputs": [
    {
     "data": {
      "text/html": [
       "<dl>\n",
       "\t<dt>$`(Intercept)`</dt>\n",
       "\t\t<dd>4.44593317592758</dd>\n",
       "\t<dt>$HousingType</dt>\n",
       "\t\t<dd><dl class=dl-horizontal>\n",
       "\t<dt>Apartments</dt>\n",
       "\t\t<dd>0.366209291423728</dd>\n",
       "\t<dt>Houses</dt>\n",
       "\t\t<dd>-0.0544611456007893</dd>\n",
       "\t<dt>Tower_Block</dt>\n",
       "\t\t<dd>-0.311748145822939</dd>\n",
       "</dl>\n",
       "</dd>\n",
       "\t<dt>$Satisfaction</dt>\n",
       "\t\t<dd><dl class=dl-horizontal>\n",
       "\t<dt>High</dt>\n",
       "\t\t<dd>0.199614214901328</dd>\n",
       "\t<dt>Low</dt>\n",
       "\t\t<dd>0.00380110453378698</dd>\n",
       "\t<dt>Meduim</dt>\n",
       "\t\t<dd>-0.203415319435115</dd>\n",
       "</dl>\n",
       "</dd>\n",
       "\t<dt>$ContactOtherResidents</dt>\n",
       "\t\t<dd><dl class=dl-horizontal>\n",
       "\t<dt>High</dt>\n",
       "\t\t<dd>0.132923870828612</dd>\n",
       "\t<dt>Low</dt>\n",
       "\t\t<dd>-0.132923870828612</dd>\n",
       "</dl>\n",
       "</dd>\n",
       "</dl>\n"
      ],
      "text/latex": [
       "\\begin{description}\n",
       "\\item[\\$`(Intercept)`] 4.44593317592758\n",
       "\\item[\\$HousingType] \\begin{description*}\n",
       "\\item[Apartments] 0.366209291423728\n",
       "\\item[Houses] -0.0544611456007893\n",
       "\\item[Tower\\textbackslash{}\\_Block] -0.311748145822939\n",
       "\\end{description*}\n",
       "\n",
       "\\item[\\$Satisfaction] \\begin{description*}\n",
       "\\item[High] 0.199614214901328\n",
       "\\item[Low] 0.00380110453378698\n",
       "\\item[Meduim] -0.203415319435115\n",
       "\\end{description*}\n",
       "\n",
       "\\item[\\$ContactOtherResidents] \\begin{description*}\n",
       "\\item[High] 0.132923870828612\n",
       "\\item[Low] -0.132923870828612\n",
       "\\end{description*}\n",
       "\n",
       "\\end{description}\n"
      ],
      "text/markdown": [
       "$`(Intercept)`\n",
       ":   4.44593317592758\n",
       "$HousingType\n",
       ":   Apartments\n",
       ":   0.366209291423728Houses\n",
       ":   -0.0544611456007893Tower_Block\n",
       ":   -0.311748145822939\n",
       "\n",
       "\n",
       "$Satisfaction\n",
       ":   High\n",
       ":   0.199614214901328Low\n",
       ":   0.00380110453378698Meduim\n",
       ":   -0.203415319435115\n",
       "\n",
       "\n",
       "$ContactOtherResidents\n",
       ":   High\n",
       ":   0.132923870828612Low\n",
       ":   -0.132923870828612\n",
       "\n",
       "\n",
       "\n",
       "\n"
      ],
      "text/plain": [
       "$`(Intercept)`\n",
       "[1] 4.445933\n",
       "\n",
       "$HousingType\n",
       " Apartments      Houses Tower_Block \n",
       " 0.36620929 -0.05446115 -0.31174815 \n",
       "\n",
       "$Satisfaction\n",
       "        High          Low       Meduim \n",
       " 0.199614215  0.003801105 -0.203415319 \n",
       "\n",
       "$ContactOtherResidents\n",
       "      High        Low \n",
       " 0.1329239 -0.1329239 \n"
      ]
     },
     "metadata": {},
     "output_type": "display_data"
    }
   ],
   "source": [
    "fullModel$param[c(1,2,3,4)]"
   ]
  },
  {
   "cell_type": "markdown",
   "metadata": {},
   "source": [
    "### Analyzing Standarized Residuals of model with all 2 way interactions"
   ]
  },
  {
   "cell_type": "code",
   "execution_count": 521,
   "metadata": {},
   "outputs": [
    {
     "name": "stdout",
     "output_type": "stream",
     "text": [
      "Re-fitting to get frequencies and fitted values\n",
      "Re-fitting to get frequencies and fitted values\n"
     ]
    },
    {
     "data": {
      "text/html": [
       "<table>\n",
       "<thead><tr><th scope=col>HousingType</th><th scope=col>Satisfaction</th><th scope=col>ContactOtherResidents</th><th scope=col>Std.Residuals</th><th scope=col>Raw.Residuals</th><th scope=col>Observed</th><th scope=col>Expected</th></tr></thead>\n",
       "<tbody>\n",
       "\t<tr><td>Apartments </td><td>High       </td><td>High       </td><td> 0.36545868</td><td>  5.0063179</td><td>191        </td><td>185.99     </td></tr>\n",
       "\t<tr><td>Houses     </td><td>High       </td><td>High       </td><td>-0.96176787</td><td>-10.1188717</td><td>104        </td><td>114.12     </td></tr>\n",
       "\t<tr><td>Tower_Block</td><td>High       </td><td>High       </td><td> 0.52023757</td><td>  5.1125538</td><td>100        </td><td> 94.89     </td></tr>\n",
       "\t<tr><td>Apartments </td><td>Low        </td><td>High       </td><td>-0.35261548</td><td> -4.2286249</td><td>141        </td><td>145.23     </td></tr>\n",
       "\t<tr><td>Houses     </td><td>Low        </td><td>High       </td><td> 0.82994617</td><td>  9.2346450</td><td>130        </td><td>120.77     </td></tr>\n",
       "\t<tr><td>Tower_Block</td><td>Low        </td><td>High       </td><td>-0.81967565</td><td> -5.0060201</td><td> 34        </td><td> 39.01     </td></tr>\n",
       "\t<tr><td>Apartments </td><td>Meduim     </td><td>High       </td><td>-0.07204273</td><td> -0.7776549</td><td>116        </td><td>116.78     </td></tr>\n",
       "\t<tr><td>Houses     </td><td>Meduim     </td><td>High       </td><td> 0.08658788</td><td>  0.8847643</td><td>105        </td><td>104.12     </td></tr>\n",
       "\t<tr><td>Tower_Block</td><td>Meduim     </td><td>High       </td><td>-0.01561166</td><td> -0.1071094</td><td> 47        </td><td> 47.11     </td></tr>\n",
       "\t<tr><td>Apartments </td><td>High       </td><td>Low        </td><td>-0.46825156</td><td> -5.0066919</td><td>111        </td><td>116.01     </td></tr>\n",
       "\t<tr><td>Houses     </td><td>High       </td><td>Low        </td><td> 1.36240583</td><td> 10.1180067</td><td> 62        </td><td> 51.88     </td></tr>\n",
       "\t<tr><td>Tower_Block</td><td>High       </td><td>Low        </td><td>-0.50267374</td><td> -5.1113149</td><td>100        </td><td>105.11     </td></tr>\n",
       "\t<tr><td>Apartments </td><td>Low        </td><td>Low        </td><td> 0.37498413</td><td>  4.2287349</td><td>130        </td><td>125.77     </td></tr>\n",
       "\t<tr><td>Houses     </td><td>Low        </td><td>Low        </td><td>-1.08003654</td><td> -9.2335072</td><td> 67        </td><td> 76.23     </td></tr>\n",
       "\t<tr><td>Tower_Block</td><td>Low        </td><td>Low        </td><td> 0.63745416</td><td>  5.0047724</td><td> 65        </td><td> 60.00     </td></tr>\n",
       "\t<tr><td>Apartments </td><td>Meduim     </td><td>Low        </td><td> 0.08950900</td><td>  0.7776531</td><td> 76        </td><td> 75.22     </td></tr>\n",
       "\t<tr><td>Houses     </td><td>Meduim     </td><td>Low        </td><td>-0.12696412</td><td> -0.8850147</td><td> 48        </td><td> 48.89     </td></tr>\n",
       "\t<tr><td>Tower_Block</td><td>Meduim     </td><td>Low        </td><td> 0.01461976</td><td>  0.1073616</td><td> 54        </td><td> 53.89     </td></tr>\n",
       "</tbody>\n",
       "</table>\n"
      ],
      "text/latex": [
       "\\begin{tabular}{r|lllllll}\n",
       " HousingType & Satisfaction & ContactOtherResidents & Std.Residuals & Raw.Residuals & Observed & Expected\\\\\n",
       "\\hline\n",
       "\t Apartments  & High        & High        &  0.36545868 &   5.0063179 & 191         & 185.99     \\\\\n",
       "\t Houses      & High        & High        & -0.96176787 & -10.1188717 & 104         & 114.12     \\\\\n",
       "\t Tower\\_Block & High          & High          &  0.52023757   &   5.1125538   & 100           &  94.89       \\\\\n",
       "\t Apartments  & Low         & High        & -0.35261548 &  -4.2286249 & 141         & 145.23     \\\\\n",
       "\t Houses      & Low         & High        &  0.82994617 &   9.2346450 & 130         & 120.77     \\\\\n",
       "\t Tower\\_Block & Low           & High          & -0.81967565   &  -5.0060201   &  34           &  39.01       \\\\\n",
       "\t Apartments  & Meduim      & High        & -0.07204273 &  -0.7776549 & 116         & 116.78     \\\\\n",
       "\t Houses      & Meduim      & High        &  0.08658788 &   0.8847643 & 105         & 104.12     \\\\\n",
       "\t Tower\\_Block & Meduim        & High          & -0.01561166   &  -0.1071094   &  47           &  47.11       \\\\\n",
       "\t Apartments  & High        & Low         & -0.46825156 &  -5.0066919 & 111         & 116.01     \\\\\n",
       "\t Houses      & High        & Low         &  1.36240583 &  10.1180067 &  62         &  51.88     \\\\\n",
       "\t Tower\\_Block & High          & Low           & -0.50267374   &  -5.1113149   & 100           & 105.11       \\\\\n",
       "\t Apartments  & Low         & Low         &  0.37498413 &   4.2287349 & 130         & 125.77     \\\\\n",
       "\t Houses      & Low         & Low         & -1.08003654 &  -9.2335072 &  67         &  76.23     \\\\\n",
       "\t Tower\\_Block & Low           & Low           &  0.63745416   &   5.0047724   &  65           &  60.00       \\\\\n",
       "\t Apartments  & Meduim      & Low         &  0.08950900 &   0.7776531 &  76         &  75.22     \\\\\n",
       "\t Houses      & Meduim      & Low         & -0.12696412 &  -0.8850147 &  48         &  48.89     \\\\\n",
       "\t Tower\\_Block & Meduim        & Low           &  0.01461976   &   0.1073616   &  54           &  53.89       \\\\\n",
       "\\end{tabular}\n"
      ],
      "text/markdown": [
       "\n",
       "HousingType | Satisfaction | ContactOtherResidents | Std.Residuals | Raw.Residuals | Observed | Expected | \n",
       "|---|---|---|---|---|---|---|---|---|---|---|---|---|---|---|---|---|---|\n",
       "| Apartments  | High        | High        |  0.36545868 |   5.0063179 | 191         | 185.99      | \n",
       "| Houses      | High        | High        | -0.96176787 | -10.1188717 | 104         | 114.12      | \n",
       "| Tower_Block | High        | High        |  0.52023757 |   5.1125538 | 100         |  94.89      | \n",
       "| Apartments  | Low         | High        | -0.35261548 |  -4.2286249 | 141         | 145.23      | \n",
       "| Houses      | Low         | High        |  0.82994617 |   9.2346450 | 130         | 120.77      | \n",
       "| Tower_Block | Low         | High        | -0.81967565 |  -5.0060201 |  34         |  39.01      | \n",
       "| Apartments  | Meduim      | High        | -0.07204273 |  -0.7776549 | 116         | 116.78      | \n",
       "| Houses      | Meduim      | High        |  0.08658788 |   0.8847643 | 105         | 104.12      | \n",
       "| Tower_Block | Meduim      | High        | -0.01561166 |  -0.1071094 |  47         |  47.11      | \n",
       "| Apartments  | High        | Low         | -0.46825156 |  -5.0066919 | 111         | 116.01      | \n",
       "| Houses      | High        | Low         |  1.36240583 |  10.1180067 |  62         |  51.88      | \n",
       "| Tower_Block | High        | Low         | -0.50267374 |  -5.1113149 | 100         | 105.11      | \n",
       "| Apartments  | Low         | Low         |  0.37498413 |   4.2287349 | 130         | 125.77      | \n",
       "| Houses      | Low         | Low         | -1.08003654 |  -9.2335072 |  67         |  76.23      | \n",
       "| Tower_Block | Low         | Low         |  0.63745416 |   5.0047724 |  65         |  60.00      | \n",
       "| Apartments  | Meduim      | Low         |  0.08950900 |   0.7776531 |  76         |  75.22      | \n",
       "| Houses      | Meduim      | Low         | -0.12696412 |  -0.8850147 |  48         |  48.89      | \n",
       "| Tower_Block | Meduim      | Low         |  0.01461976 |   0.1073616 |  54         |  53.89      | \n",
       "\n",
       "\n"
      ],
      "text/plain": [
       "   HousingType Satisfaction ContactOtherResidents Std.Residuals Raw.Residuals\n",
       "1  Apartments  High         High                   0.36545868     5.0063179  \n",
       "2  Houses      High         High                  -0.96176787   -10.1188717  \n",
       "3  Tower_Block High         High                   0.52023757     5.1125538  \n",
       "4  Apartments  Low          High                  -0.35261548    -4.2286249  \n",
       "5  Houses      Low          High                   0.82994617     9.2346450  \n",
       "6  Tower_Block Low          High                  -0.81967565    -5.0060201  \n",
       "7  Apartments  Meduim       High                  -0.07204273    -0.7776549  \n",
       "8  Houses      Meduim       High                   0.08658788     0.8847643  \n",
       "9  Tower_Block Meduim       High                  -0.01561166    -0.1071094  \n",
       "10 Apartments  High         Low                   -0.46825156    -5.0066919  \n",
       "11 Houses      High         Low                    1.36240583    10.1180067  \n",
       "12 Tower_Block High         Low                   -0.50267374    -5.1113149  \n",
       "13 Apartments  Low          Low                    0.37498413     4.2287349  \n",
       "14 Houses      Low          Low                   -1.08003654    -9.2335072  \n",
       "15 Tower_Block Low          Low                    0.63745416     5.0047724  \n",
       "16 Apartments  Meduim       Low                    0.08950900     0.7776531  \n",
       "17 Houses      Meduim       Low                   -0.12696412    -0.8850147  \n",
       "18 Tower_Block Meduim       Low                    0.01461976     0.1073616  \n",
       "   Observed Expected\n",
       "1  191      185.99  \n",
       "2  104      114.12  \n",
       "3  100       94.89  \n",
       "4  141      145.23  \n",
       "5  130      120.77  \n",
       "6   34       39.01  \n",
       "7  116      116.78  \n",
       "8  105      104.12  \n",
       "9   47       47.11  \n",
       "10 111      116.01  \n",
       "11  62       51.88  \n",
       "12 100      105.11  \n",
       "13 130      125.77  \n",
       "14  67       76.23  \n",
       "15  65       60.00  \n",
       "16  76       75.22  \n",
       "17  48       48.89  \n",
       "18  54       53.89  "
      ]
     },
     "metadata": {},
     "output_type": "display_data"
    }
   ],
   "source": [
    "a = data.frame(residuals(fullModel, type=\"deviance\"))\n",
    "a = cbind(a, data.frame(residuals(fullModel, \"response\"))$Freq)\n",
    "a = cbind(a, data.frame(tabData)$Freq)\n",
    "colnames(a) = c(\"HousingType\",\"Satisfaction\",\"ContactOtherResidents\", \"Std.Residuals\",\"Raw.Residuals\",\"Observed\")\n",
    "a$Expected = round(a$Observed - a$Raw.Residuals,2)\n",
    "a"
   ]
  },
  {
   "cell_type": "markdown",
   "metadata": {},
   "source": [
    "## Conclusion:\n",
    "### Model with all three interactions seems like a good fit because the standarized residuals are well behaved and the chi-squared test of 2 interactions vs 3 interactions is significant with:\n",
    "### Delta Deviance = 8.87 with d.f = 2\n",
    "### P-value = 0.01 "
   ]
  }
 ],
 "metadata": {
  "kernelspec": {
   "display_name": "R",
   "language": "R",
   "name": "ir"
  },
  "language_info": {
   "codemirror_mode": "r",
   "file_extension": ".r",
   "mimetype": "text/x-r-source",
   "name": "R",
   "pygments_lexer": "r",
   "version": "3.4.1"
  }
 },
 "nbformat": 4,
 "nbformat_minor": 2
}
