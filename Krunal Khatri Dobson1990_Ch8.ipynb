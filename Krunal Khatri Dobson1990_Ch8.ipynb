{
 "cells": [
  {
   "cell_type": "code",
   "execution_count": 1,
   "metadata": {},
   "outputs": [
    {
     "name": "stderr",
     "output_type": "stream",
     "text": [
      "ResourceSelection 0.3-2 \t 2017-02-28\n"
     ]
    }
   ],
   "source": [
    "library(ggplot2)\n",
    "library(ResourceSelection)"
   ]
  },
  {
   "cell_type": "markdown",
   "metadata": {},
   "source": [
    "## Exercise 8.1"
   ]
  },
  {
   "cell_type": "code",
   "execution_count": 2,
   "metadata": {},
   "outputs": [],
   "source": [
    "d0 = data.frame(dose=rep(0, 391), death=c(rep(1, 13), rep(0, 378)))\n",
    "d1 = data.frame(dose=rep(1, 205), death=c(rep(1, 5), rep(0, 200)))\n",
    "d10 = data.frame(dose=rep(10, 156), death=c(rep(1, 5), rep(0, 151)))\n",
    "d50 = data.frame(dose=rep(50, 50), death=c(rep(1,3), rep(0, 47)))\n",
    "d100 = data.frame(dose=rep(100, 35), death=c(rep(1,4), rep(0, 31)))\n",
    "d200 = data.frame(dose=rep(200, 51), death=c(rep(1,18), rep(0, 33)))\n",
    "data = rbind(d0, d1, d10, d50, d100, d200)"
   ]
  },
  {
   "cell_type": "code",
   "execution_count": 3,
   "metadata": {},
   "outputs": [
    {
     "data": {
      "text/html": [
       "<ol class=list-inline>\n",
       "\t<li>888</li>\n",
       "\t<li>2</li>\n",
       "</ol>\n"
      ],
      "text/latex": [
       "\\begin{enumerate*}\n",
       "\\item 888\n",
       "\\item 2\n",
       "\\end{enumerate*}\n"
      ],
      "text/markdown": [
       "1. 888\n",
       "2. 2\n",
       "\n",
       "\n"
      ],
      "text/plain": [
       "[1] 888   2"
      ]
     },
     "metadata": {},
     "output_type": "display_data"
    },
    {
     "data": {
      "text/plain": [
       "     death\n",
       "dose    0   1\n",
       "  0   378  13\n",
       "  1   200   5\n",
       "  10  151   5\n",
       "  50   47   3\n",
       "  100  31   4\n",
       "  200  33  18"
      ]
     },
     "metadata": {},
     "output_type": "display_data"
    }
   ],
   "source": [
    "dim(data)\n",
    "table(data)"
   ]
  },
  {
   "cell_type": "code",
   "execution_count": 6,
   "metadata": {},
   "outputs": [
    {
     "data": {},
     "metadata": {},
     "output_type": "display_data"
    },
    {
     "data": {
      "image/png": "[encoded data removed]",
      "text/plain": [
       "plot without title"
      ]
     },
     "metadata": {},
     "output_type": "display_data"
    }
   ],
   "source": [
    "ggplot(data=data, aes(factor(dose), death, group=dose, size=4)) +\n",
    "    stat_summary(fun.y=\"mean\", geom=\"point\", color=\"blue\") +\n",
    "    labs(x=\"Radiation Dose\", y=\"Mean Deaths Leukaemia\", title=\"Mean Deaths from Leukaemia Vs Radiation Dose\", \n",
    "         color=\"Radiation\\nDose\", subtitle=\"From set 13 of Cox and Snell, 1981, using data from Otake 1979.\") +\n",
    "    theme(legend.position = \"none\")"
   ]
  },
  {
   "cell_type": "code",
   "execution_count": 285,
   "metadata": {},
   "outputs": [
    {
     "data": {
      "text/plain": [
       "\n",
       "Call:\n",
       "glm(formula = death ~ dose, family = binomial(link = logit), \n",
       "    data = data)\n",
       "\n",
       "Deviance Residuals: \n",
       "    Min       1Q   Median       3Q      Max  \n",
       "-0.9328  -0.2633  -0.2470  -0.2453   2.6529  \n",
       "\n",
       "Coefficients:\n",
       "             Estimate Std. Error z value Pr(>|z|)    \n",
       "(Intercept) -3.488973   0.204062 -17.098  < 2e-16 ***\n",
       "dose         0.014410   0.001817   7.932 2.15e-15 ***\n",
       "---\n",
       "Signif. codes:  0 '***' 0.001 '**' 0.01 '*' 0.05 '.' 0.1 ' ' 1\n",
       "\n",
       "(Dispersion parameter for binomial family taken to be 1)\n",
       "\n",
       "    Null deviance: 373.46  on 887  degrees of freedom\n",
       "Residual deviance: 319.54  on 886  degrees of freedom\n",
       "AIC: 323.54\n",
       "\n",
       "Number of Fisher Scoring iterations: 6\n"
      ]
     },
     "metadata": {},
     "output_type": "display_data"
    }
   ],
   "source": [
    "glm_logit = glm(death ~ dose, data=data, family=binomial(link=logit))\n",
    "summary(glm_logit)"
   ]
  },
  {
   "cell_type": "markdown",
   "metadata": {},
   "source": [
    "### Testing null model against the full model using chi-squared test for difference in deviance.\n",
    "### Conclusion: Full is model is definitely better than the null model"
   ]
  },
  {
   "cell_type": "code",
   "execution_count": 286,
   "metadata": {},
   "outputs": [
    {
     "data": {
      "text/html": [
       "<table>\n",
       "<thead><tr><th></th><th scope=col>Df</th><th scope=col>Deviance</th><th scope=col>Resid. Df</th><th scope=col>Resid. Dev</th><th scope=col>Pr(&gt;Chi)</th></tr></thead>\n",
       "<tbody>\n",
       "\t<tr><th scope=row>NULL</th><td>NA          </td><td>      NA    </td><td>887         </td><td>373.4633    </td><td>          NA</td></tr>\n",
       "\t<tr><th scope=row>dose</th><td> 1          </td><td>53.91883    </td><td>886         </td><td>319.5445    </td><td>2.089456e-13</td></tr>\n",
       "</tbody>\n",
       "</table>\n"
      ],
      "text/latex": [
       "\\begin{tabular}{r|lllll}\n",
       "  & Df & Deviance & Resid. Df & Resid. Dev & Pr(>Chi)\\\\\n",
       "\\hline\n",
       "\tNULL & NA           &       NA     & 887          & 373.4633     &           NA\\\\\n",
       "\tdose &  1           & 53.91883     & 886          & 319.5445     & 2.089456e-13\\\\\n",
       "\\end{tabular}\n"
      ],
      "text/markdown": [
       "\n",
       "| <!--/--> | Df | Deviance | Resid. Df | Resid. Dev | Pr(>Chi) | \n",
       "|---|---|\n",
       "| NULL | NA           |       NA     | 887          | 373.4633     |           NA | \n",
       "| dose |  1           | 53.91883     | 886          | 319.5445     | 2.089456e-13 | \n",
       "\n",
       "\n"
      ],
      "text/plain": [
       "     Df Deviance Resid. Df Resid. Dev Pr(>Chi)    \n",
       "NULL NA       NA 887       373.4633             NA\n",
       "dose  1 53.91883 886       319.5445   2.089456e-13"
      ]
     },
     "metadata": {},
     "output_type": "display_data"
    }
   ],
   "source": [
    "anova(glm_logit, test=\"Chisq\")"
   ]
  },
  {
   "cell_type": "code",
   "execution_count": 296,
   "metadata": {},
   "outputs": [
    {
     "data": {
      "text/html": [
       "<table>\n",
       "<thead><tr><th></th><th scope=col>Interval</th><th scope=col>Observed_NoDeath</th><th scope=col>Expected_NoDeath</th><th scope=col>Observed_Death</th><th scope=col>Expected_Death</th></tr></thead>\n",
       "<tbody>\n",
       "\t<tr><th scope=row>[0.0296,0.03]</th><td>[0.0296,0.03] </td><td>578           </td><td>578.2564      </td><td>18            </td><td>17.743567     </td></tr>\n",
       "\t<tr><th scope=row>(0.03,0.0341]</th><td>(0.03,0.0341] </td><td>151           </td><td>150.6861      </td><td> 5            </td><td> 5.313911     </td></tr>\n",
       "\t<tr><th scope=row>(0.0341,0.353]</th><td>(0.0341,0.353]</td><td>111           </td><td>111.0575      </td><td>25            </td><td>24.942522     </td></tr>\n",
       "</tbody>\n",
       "</table>\n"
      ],
      "text/latex": [
       "\\begin{tabular}{r|lllll}\n",
       "  & Interval & Observed\\_NoDeath & Expected\\_NoDeath & Observed\\_Death & Expected\\_Death\\\\\n",
       "\\hline\n",
       "\t{[}0.0296,0.03{]} & {[}0.0296,0.03{]}  & 578                & 578.2564           & 18                 & 17.743567         \\\\\n",
       "\t(0.03,0.0341{]} & (0.03,0.0341{]}  & 151              & 150.6861         &  5               &  5.313911       \\\\\n",
       "\t(0.0341,0.353{]} & (0.0341,0.353{]} & 111              & 111.0575         & 25               & 24.942522       \\\\\n",
       "\\end{tabular}\n"
      ],
      "text/markdown": [
       "\n",
       "| <!--/--> | Interval | Observed_NoDeath | Expected_NoDeath | Observed_Death | Expected_Death | \n",
       "|---|---|---|\n",
       "| [0.0296,0.03] | [0.0296,0.03]  | 578            | 578.2564       | 18             | 17.743567      | \n",
       "| (0.03,0.0341] | (0.03,0.0341]  | 151            | 150.6861       |  5             |  5.313911      | \n",
       "| (0.0341,0.353] | (0.0341,0.353] | 111            | 111.0575       | 25             | 24.942522      | \n",
       "\n",
       "\n"
      ],
      "text/plain": [
       "               Interval       Observed_NoDeath Expected_NoDeath Observed_Death\n",
       "[0.0296,0.03]  [0.0296,0.03]  578              578.2564         18            \n",
       "(0.03,0.0341]  (0.03,0.0341]  151              150.6861          5            \n",
       "(0.0341,0.353] (0.0341,0.353] 111              111.0575         25            \n",
       "               Expected_Death\n",
       "[0.0296,0.03]  17.743567     \n",
       "(0.03,0.0341]   5.313911     \n",
       "(0.0341,0.353] 24.942522     "
      ]
     },
     "metadata": {},
     "output_type": "display_data"
    },
    {
     "data": {
      "text/plain": [
       "\n",
       "\tHosmer and Lemeshow goodness of fit (GOF) test\n",
       "\n",
       "data:  data$death, fitted(glm_logit)\n",
       "X-squared = 0.02318, df = 2, p-value = 0.9885\n"
      ]
     },
     "metadata": {},
     "output_type": "display_data"
    }
   ],
   "source": [
    "hl_test = hoslem.test(data$death, fitted(glm_logit), g=4)\n",
    "tab = data.frame(Interval = rownames(hl_test$observed), \n",
    "           Observed_NoDeath = hl_test$observed[,1], \n",
    "           Expected_NoDeath = hl_test$expected[,1],\n",
    "           Observed_Death = hl_test$observed[,2],\n",
    "           Expected_Death = hl_test$expected[,2])\n",
    "tab\n",
    "hl_test"
   ]
  },
  {
   "cell_type": "markdown",
   "metadata": {},
   "source": [
    "### The chi-squared p-value for the Hosmer Lemeshow Goodness of Fit test is 1, indicating a good fit. So, the current model is adequate to model Radiation dose to people dying from Leukaemia."
   ]
  },
  {
   "cell_type": "markdown",
   "metadata": {},
   "source": [
    "## Final Model: log( pi / (1 - pi) ) = -3.489 + 0.014 * dose\n",
    "### The coefficient for dose represents about 1.4% increase in the log odds of dying with 1 unit increase in radiation. In this case the odds are also the same because; exp(0.01441) = 1.0145"
   ]
  },
  {
   "cell_type": "markdown",
   "metadata": {},
   "source": [
    "## _______________________\n",
    "## Exercise 8.3"
   ]
  },
  {
   "cell_type": "code",
   "execution_count": 308,
   "metadata": {},
   "outputs": [],
   "source": [
    "sesL = data.frame(ses = rep(\"L\", 430+321+230+169),\n",
    "                 iq = c(rep(\"L\", 430), rep(\"LM\", 321), rep(\"UM\", 230), rep(\"H\", 169)),\n",
    "                 college_plans = c(rep(1, 17), rep(0, 413), rep(1, 42), rep(0,279), rep(1,50), rep(0, 180), rep(1,59),rep(0,110)))\n",
    "\n",
    "sesLM = data.frame(ses = rep(\"LM\", 345+367+312+274),\n",
    "                 iq = c(rep(\"L\", 345), rep(\"LM\", 367), rep(\"UM\", 312), rep(\"H\", 274)),\n",
    "                 college_plans = c(rep(1, 29), rep(0, 316), rep(1, 71), rep(0,296), rep(1,105), rep(0, 207), rep(1,136),rep(0,138)))\n",
    "\n",
    "sesUM = data.frame(ses = rep(\"UM\", 312+310+357+319),\n",
    "                 iq = c(rep(\"L\", 312), rep(\"LM\", 310), rep(\"UM\", 357), rep(\"H\", 319)),\n",
    "                 college_plans = c(rep(1, 55), rep(0, 257), rep(1, 80), rep(0,230), rep(1,165), rep(0, 192), rep(1,204),rep(0,115)))\n",
    "\n",
    "sesH = data.frame(ses = rep(\"H\", 148+265+339+493),\n",
    "                 iq = c(rep(\"L\", 148), rep(\"LM\", 265), rep(\"UM\", 339), rep(\"H\", 493)),\n",
    "                 college_plans = c(rep(1, 43), rep(0, 105), rep(1, 128), rep(0,137), rep(1,233), rep(0, 106), rep(1,422),rep(0,71)))\n",
    "\n",
    "data = rbind(sesL, sesLM, sesUM, sesH)"
   ]
  },
  {
   "cell_type": "code",
   "execution_count": 309,
   "metadata": {},
   "outputs": [
    {
     "data": {},
     "metadata": {},
     "output_type": "display_data"
    },
    {
     "data": {
      "image/png": "[encoded data removed]",
      "text/plain": [
       "plot without title"
      ]
     },
     "metadata": {},
     "output_type": "display_data"
    }
   ],
   "source": [
    "ggplot(data, aes(iq)) +\n",
    "    geom_density(aes(colour=iq, fill=iq), alpha=0.3) +    \n",
    "    #geom_bar(stat='density') +\n",
    "    stat_summary(data=data, aes(iq, college_plans), fun.y = \"mean\", geom=\"point\", size=2, colour=\"blue\") +\n",
    "    facet_wrap(~ses) +\n",
    "    labs(x=\"IQ\", y=\"Density\", title=\"Density of Each IQ for boys within Each Socio Economic Group\",\n",
    "        subtitle=\"Blue points: Proportion of boys that have college plans within each Socio Economic Group\") "
   ]
  },
  {
   "cell_type": "code",
   "execution_count": 301,
   "metadata": {},
   "outputs": [],
   "source": [
    "college_glm = glm(college_plans ~ ses + iq, data=data, family=binomial(link=logit))"
   ]
  },
  {
   "cell_type": "code",
   "execution_count": 302,
   "metadata": {},
   "outputs": [
    {
     "data": {
      "text/plain": [
       "\n",
       "Call:\n",
       "glm(formula = college_plans ~ ses + iq, family = binomial(link = logit), \n",
       "    data = data)\n",
       "\n",
       "Deviance Residuals: \n",
       "    Min       1Q   Median       3Q      Max  \n",
       "-1.8877  -0.8068  -0.4312   0.8516   2.4406  \n",
       "\n",
       "Coefficients:\n",
       "            Estimate Std. Error z value Pr(>|z|)    \n",
       "(Intercept)  -2.9260     0.1208 -24.215  < 2e-16 ***\n",
       "ses11         0.5972     0.1108   5.390 7.03e-08 ***\n",
       "ses12         1.1553     0.1074  10.757  < 2e-16 ***\n",
       "ses13         2.1332     0.1092  19.543  < 2e-16 ***\n",
       "iq2           0.8152     0.1144   7.126 1.03e-12 ***\n",
       "iq3           1.6204     0.1101  14.715  < 2e-16 ***\n",
       "iq4           2.3903     0.1114  21.456  < 2e-16 ***\n",
       "---\n",
       "Signif. codes:  0 '***' 0.001 '**' 0.01 '*' 0.05 '.' 0.1 ' ' 1\n",
       "\n",
       "(Dispersion parameter for binomial family taken to be 1)\n",
       "\n",
       "    Null deviance: 6569.5  on 4990  degrees of freedom\n",
       "Residual deviance: 5127.7  on 4984  degrees of freedom\n",
       "AIC: 5141.7\n",
       "\n",
       "Number of Fisher Scoring iterations: 4\n"
      ]
     },
     "metadata": {},
     "output_type": "display_data"
    }
   ],
   "source": [
    "summary(college_glm)"
   ]
  },
  {
   "cell_type": "markdown",
   "metadata": {},
   "source": [
    "### Testing null model against the full model using chi-squared test for difference in deviance.\n",
    "### Conclusion: Full is model is definitely better than the null model"
   ]
  },
  {
   "cell_type": "code",
   "execution_count": 303,
   "metadata": {},
   "outputs": [
    {
     "data": {
      "text/html": [
       "<table>\n",
       "<thead><tr><th></th><th scope=col>Df</th><th scope=col>Deviance</th><th scope=col>Resid. Df</th><th scope=col>Resid. Dev</th><th scope=col>Pr(&gt;Chi)</th></tr></thead>\n",
       "<tbody>\n",
       "\t<tr><th scope=row>NULL</th><td>NA           </td><td>      NA     </td><td>4990         </td><td>6569.481     </td><td>           NA</td></tr>\n",
       "\t<tr><th scope=row>ses</th><td> 3           </td><td>793.5548     </td><td>4987         </td><td>5775.926     </td><td>1.081515e-171</td></tr>\n",
       "\t<tr><th scope=row>iq</th><td> 3           </td><td>648.2023     </td><td>4984         </td><td>5127.724     </td><td>3.573764e-140</td></tr>\n",
       "</tbody>\n",
       "</table>\n"
      ],
      "text/latex": [
       "\\begin{tabular}{r|lllll}\n",
       "  & Df & Deviance & Resid. Df & Resid. Dev & Pr(>Chi)\\\\\n",
       "\\hline\n",
       "\tNULL & NA            &       NA      & 4990          & 6569.481      &            NA\\\\\n",
       "\tses &  3            & 793.5548      & 4987          & 5775.926      & 1.081515e-171\\\\\n",
       "\tiq &  3            & 648.2023      & 4984          & 5127.724      & 3.573764e-140\\\\\n",
       "\\end{tabular}\n"
      ],
      "text/markdown": [
       "\n",
       "| <!--/--> | Df | Deviance | Resid. Df | Resid. Dev | Pr(>Chi) | \n",
       "|---|---|---|\n",
       "| NULL | NA            |       NA      | 4990          | 6569.481      |            NA | \n",
       "| ses |  3            | 793.5548      | 4987          | 5775.926      | 1.081515e-171 | \n",
       "| iq |  3            | 648.2023      | 4984          | 5127.724      | 3.573764e-140 | \n",
       "\n",
       "\n"
      ],
      "text/plain": [
       "     Df Deviance Resid. Df Resid. Dev Pr(>Chi)     \n",
       "NULL NA       NA 4990      6569.481              NA\n",
       "ses   3 793.5548 4987      5775.926   1.081515e-171\n",
       "iq    3 648.2023 4984      5127.724   3.573764e-140"
      ]
     },
     "metadata": {},
     "output_type": "display_data"
    }
   ],
   "source": [
    "anova(college_glm, test=\"Chisq\")"
   ]
  },
  {
   "cell_type": "code",
   "execution_count": 304,
   "metadata": {},
   "outputs": [
    {
     "data": {
      "text/html": [
       "<table>\n",
       "<thead><tr><th></th><th scope=col>Interval</th><th scope=col>Observed_NoCollege</th><th scope=col>Expected_NoCollege</th><th scope=col>Observed_College</th><th scope=col>Expected_College</th></tr></thead>\n",
       "<tbody>\n",
       "\t<tr><th scope=row>[0.0509,0.0888]</th><td>[0.0509,0.0888]</td><td>729            </td><td>722.49454      </td><td> 46            </td><td> 52.50546      </td></tr>\n",
       "\t<tr><th scope=row>(0.0888,0.108]</th><td>(0.0888,0.108] </td><td>279            </td><td>286.31408      </td><td> 42            </td><td> 34.68592      </td></tr>\n",
       "\t<tr><th scope=row>(0.108,0.18]</th><td>(0.108,0.18]   </td><td>553            </td><td>567.40398      </td><td>126            </td><td>111.59602      </td></tr>\n",
       "\t<tr><th scope=row>(0.18,0.213]</th><td>(0.18,0.213]   </td><td>180            </td><td>180.95727      </td><td> 50            </td><td> 49.04273      </td></tr>\n",
       "\t<tr><th scope=row>(0.213,0.33]</th><td>(0.213,0.33]   </td><td>542            </td><td>534.82340      </td><td>228            </td><td>235.17660      </td></tr>\n",
       "\t<tr><th scope=row>(0.33,0.463]</th><td>(0.33,0.463]   </td><td>302            </td><td>298.49451      </td><td>224            </td><td>227.50549      </td></tr>\n",
       "\t<tr><th scope=row>(0.463,0.506]</th><td>(0.463,0.506]  </td><td>137            </td><td>131.01416      </td><td>128            </td><td>133.98584      </td></tr>\n",
       "\t<tr><th scope=row>(0.506,0.65]</th><td>(0.506,0.65]   </td><td>253            </td><td>244.40034      </td><td>340            </td><td>348.59966      </td></tr>\n",
       "\t<tr><th scope=row>(0.65,0.696]</th><td>(0.65,0.696]   </td><td>106            </td><td>103.10669      </td><td>233            </td><td>235.89331      </td></tr>\n",
       "\t<tr><th scope=row>(0.696,0.832]</th><td>(0.696,0.832]  </td><td> 71            </td><td> 82.99102      </td><td>422            </td><td>410.00898      </td></tr>\n",
       "</tbody>\n",
       "</table>\n"
      ],
      "text/latex": [
       "\\begin{tabular}{r|lllll}\n",
       "  & Interval & Observed\\_NoCollege & Expected\\_NoCollege & Observed\\_College & Expected\\_College\\\\\n",
       "\\hline\n",
       "\t{[}0.0509,0.0888{]} & {[}0.0509,0.0888{]} & 729                 & 722.49454           &  46                 &  52.50546          \\\\\n",
       "\t(0.0888,0.108{]} & (0.0888,0.108{]}  & 279               & 286.31408         &  42               &  34.68592        \\\\\n",
       "\t(0.108,0.18{]} & (0.108,0.18{]}    & 553               & 567.40398         & 126               & 111.59602        \\\\\n",
       "\t(0.18,0.213{]} & (0.18,0.213{]}    & 180               & 180.95727         &  50               &  49.04273        \\\\\n",
       "\t(0.213,0.33{]} & (0.213,0.33{]}    & 542               & 534.82340         & 228               & 235.17660        \\\\\n",
       "\t(0.33,0.463{]} & (0.33,0.463{]}    & 302               & 298.49451         & 224               & 227.50549        \\\\\n",
       "\t(0.463,0.506{]} & (0.463,0.506{]}   & 137               & 131.01416         & 128               & 133.98584        \\\\\n",
       "\t(0.506,0.65{]} & (0.506,0.65{]}    & 253               & 244.40034         & 340               & 348.59966        \\\\\n",
       "\t(0.65,0.696{]} & (0.65,0.696{]}    & 106               & 103.10669         & 233               & 235.89331        \\\\\n",
       "\t(0.696,0.832{]} & (0.696,0.832{]}   &  71               &  82.99102         & 422               & 410.00898        \\\\\n",
       "\\end{tabular}\n"
      ],
      "text/markdown": [
       "\n",
       "| <!--/--> | Interval | Observed_NoCollege | Expected_NoCollege | Observed_College | Expected_College | \n",
       "|---|---|---|---|---|---|---|---|---|---|\n",
       "| [0.0509,0.0888] | [0.0509,0.0888] | 729             | 722.49454       |  46             |  52.50546       | \n",
       "| (0.0888,0.108] | (0.0888,0.108]  | 279             | 286.31408       |  42             |  34.68592       | \n",
       "| (0.108,0.18] | (0.108,0.18]    | 553             | 567.40398       | 126             | 111.59602       | \n",
       "| (0.18,0.213] | (0.18,0.213]    | 180             | 180.95727       |  50             |  49.04273       | \n",
       "| (0.213,0.33] | (0.213,0.33]    | 542             | 534.82340       | 228             | 235.17660       | \n",
       "| (0.33,0.463] | (0.33,0.463]    | 302             | 298.49451       | 224             | 227.50549       | \n",
       "| (0.463,0.506] | (0.463,0.506]   | 137             | 131.01416       | 128             | 133.98584       | \n",
       "| (0.506,0.65] | (0.506,0.65]    | 253             | 244.40034       | 340             | 348.59966       | \n",
       "| (0.65,0.696] | (0.65,0.696]    | 106             | 103.10669       | 233             | 235.89331       | \n",
       "| (0.696,0.832] | (0.696,0.832]   |  71             |  82.99102       | 422             | 410.00898       | \n",
       "\n",
       "\n"
      ],
      "text/plain": [
       "                Interval        Observed_NoCollege Expected_NoCollege\n",
       "[0.0509,0.0888] [0.0509,0.0888] 729                722.49454         \n",
       "(0.0888,0.108]  (0.0888,0.108]  279                286.31408         \n",
       "(0.108,0.18]    (0.108,0.18]    553                567.40398         \n",
       "(0.18,0.213]    (0.18,0.213]    180                180.95727         \n",
       "(0.213,0.33]    (0.213,0.33]    542                534.82340         \n",
       "(0.33,0.463]    (0.33,0.463]    302                298.49451         \n",
       "(0.463,0.506]   (0.463,0.506]   137                131.01416         \n",
       "(0.506,0.65]    (0.506,0.65]    253                244.40034         \n",
       "(0.65,0.696]    (0.65,0.696]    106                103.10669         \n",
       "(0.696,0.832]   (0.696,0.832]    71                 82.99102         \n",
       "                Observed_College Expected_College\n",
       "[0.0509,0.0888]  46               52.50546       \n",
       "(0.0888,0.108]   42               34.68592       \n",
       "(0.108,0.18]    126              111.59602       \n",
       "(0.18,0.213]     50               49.04273       \n",
       "(0.213,0.33]    228              235.17660       \n",
       "(0.33,0.463]    224              227.50549       \n",
       "(0.463,0.506]   128              133.98584       \n",
       "(0.506,0.65]    340              348.59966       \n",
       "(0.65,0.696]    233              235.89331       \n",
       "(0.696,0.832]   422              410.00898       "
      ]
     },
     "metadata": {},
     "output_type": "display_data"
    },
    {
     "data": {
      "text/plain": [
       "\n",
       "\tHosmer and Lemeshow goodness of fit (GOF) test\n",
       "\n",
       "data:  data$college_plans, fitted(college_glm)\n",
       "X-squared = 8.5083, df = 8, p-value = 0.3855\n"
      ]
     },
     "metadata": {},
     "output_type": "display_data"
    }
   ],
   "source": [
    "hl_test = hoslem.test(data$college_plans, fitted(college_glm), g=10)\n",
    "tab = data.frame(Interval = rownames(hl_test$observed), \n",
    "           Observed_NoCollege = hl_test$observed[,1], \n",
    "           Expected_NoCollege = hl_test$expected[,1],\n",
    "           Observed_College = hl_test$observed[,2],\n",
    "           Expected_College = hl_test$expected[,2])\n",
    "tab\n",
    "hl_test"
   ]
  },
  {
   "cell_type": "markdown",
   "metadata": {},
   "source": [
    "### The chi-squared p-value for the Hosmer Lemeshow Goodness of Fit test is 0.3855, indicating a good fit. So, the current model is adequate to model College Planse for schoolboys from Wisconsin.\n",
    "## Final Model:\n",
    "### log(pi / (1 - pi)) = -0.54 + 0.60 * *sesLM + 1.16 * *sesUM + 2.13 * *sesH - 2.39 * *iqL - 1.58 * *iqLM - 0.77 * *iqUM\n",
    "# Inference\n",
    "## Socio-Economic Status:\n",
    "### L: Provided other variables are held constant, the odds of a Wisconsin schoolboy from Low socio-economic status making college plans decrease by 41%.\n",
    "### LM: As the economic Status changes to Lower Middle and other variables are held constant, the odds of a Wisconsin schoolboy making college plans increases by 82 %.\n",
    "### UM: As the economic Status changes to Upper Middle and other variables are held constant, the odds of a Wisconsin schoolboy making college plans increases by 218 %.\n",
    "### H: As the economic Status changes  to High and other variables are held constant, the odds of a Wisconsin schoolboy making college plans increases by 741 %.\n",
    "## IQ (irrespective of the socio-economic status)\n",
    "### L: Provided other variables are held constant, the odds of a Wisconsin schoolboy with Low IQ score making college plans are about 9%\n",
    "### LM: As the IQ score changes from Low to Lower Middle and other variables are held constant, the odds of a wisconsin schoolboy making college plans are about 21%\n",
    "### UM: As the IQ score changes from Lower Middle to Upper Middle and other variables are held constant, the odds of a wisconsin schoolboy making college plans are about 46%\n",
    "### H: As the IQ score changes from Upper Middle to High and other variables are held constant, the odds of a wisconsin schoolboy making college plans are about 58%\n",
    "## Comments:\n",
    "### The socio-economic status and college plans seem to be positively related, and the increase in a student making college plans is steep as the socio-economic status changes. When the increase is compared to IQ scores, the increase is not as steep.\n",
    "### So, based on this data, college preparedness of schoolboys of Wisconsin in 1968 changed significantly with increase in socio-economic status.\n",
    "### NOTE: Model with interaction of socio-economic and IQ was not significantly different than the current model. Here the socio-economic status and IQ levels were considered \"nominal.\""
   ]
  },
  {
   "cell_type": "markdown",
   "metadata": {},
   "source": [
    "## ______________________________________________________________________________\n",
    "## Exercise 8.5"
   ]
  },
  {
   "cell_type": "code",
   "execution_count": 275,
   "metadata": {},
   "outputs": [
    {
     "data": {
      "text/html": [
       "<table>\n",
       "<thead><tr><th scope=col>Trt</th><th scope=col>Centrifuge</th><th scope=col>Anthers</th><th scope=col>Total</th><th scope=col>proportion</th></tr></thead>\n",
       "<tbody>\n",
       "\t<tr><td>C        </td><td> 40      </td><td>55       </td><td>102      </td><td>0.5392157</td></tr>\n",
       "\t<tr><td>C        </td><td>150      </td><td>52       </td><td> 99      </td><td>0.5252525</td></tr>\n",
       "\t<tr><td>C        </td><td>350      </td><td>57       </td><td>108      </td><td>0.5277778</td></tr>\n",
       "\t<tr><td>T        </td><td> 40      </td><td>55       </td><td> 76      </td><td>0.7236842</td></tr>\n",
       "\t<tr><td>T        </td><td>150      </td><td>50       </td><td> 81      </td><td>0.6172840</td></tr>\n",
       "\t<tr><td>T        </td><td>350      </td><td>50       </td><td> 90      </td><td>0.5555556</td></tr>\n",
       "</tbody>\n",
       "</table>\n"
      ],
      "text/latex": [
       "\\begin{tabular}{r|lllll}\n",
       " Trt & Centrifuge & Anthers & Total & proportion\\\\\n",
       "\\hline\n",
       "\t C         &  40       & 55        & 102       & 0.5392157\\\\\n",
       "\t C         & 150       & 52        &  99       & 0.5252525\\\\\n",
       "\t C         & 350       & 57        & 108       & 0.5277778\\\\\n",
       "\t T         &  40       & 55        &  76       & 0.7236842\\\\\n",
       "\t T         & 150       & 50        &  81       & 0.6172840\\\\\n",
       "\t T         & 350       & 50        &  90       & 0.5555556\\\\\n",
       "\\end{tabular}\n"
      ],
      "text/markdown": [
       "\n",
       "Trt | Centrifuge | Anthers | Total | proportion | \n",
       "|---|---|---|---|---|---|\n",
       "| C         |  40       | 55        | 102       | 0.5392157 | \n",
       "| C         | 150       | 52        |  99       | 0.5252525 | \n",
       "| C         | 350       | 57        | 108       | 0.5277778 | \n",
       "| T         |  40       | 55        |  76       | 0.7236842 | \n",
       "| T         | 150       | 50        |  81       | 0.6172840 | \n",
       "| T         | 350       | 50        |  90       | 0.5555556 | \n",
       "\n",
       "\n"
      ],
      "text/plain": [
       "  Trt Centrifuge Anthers Total proportion\n",
       "1 C    40        55      102   0.5392157 \n",
       "2 C   150        52       99   0.5252525 \n",
       "3 C   350        57      108   0.5277778 \n",
       "4 T    40        55       76   0.7236842 \n",
       "5 T   150        50       81   0.6172840 \n",
       "6 T   350        50       90   0.5555556 "
      ]
     },
     "metadata": {},
     "output_type": "display_data"
    }
   ],
   "source": [
    "control = data.frame(Trt = c(\"C\",\"C\",\"C\"), Centrifuge = c(40,150,350), Anthers =c(55,52,57), Total = c(102,99,108))\n",
    "treatment = data.frame(Trt = c(\"T\", \"T\", \"T\"), Centrifuge = c(40,150,350), Anthers =c(55,50,50), Total = c(76,81,90))\n",
    "data = rbind(control, treatment)\n",
    "data$proportion = data$Anthers / data$Total\n",
    "data"
   ]
  },
  {
   "cell_type": "code",
   "execution_count": 276,
   "metadata": {},
   "outputs": [
    {
     "data": {},
     "metadata": {},
     "output_type": "display_data"
    },
    {
     "data": {
      "image/png": "[encoded data removed]",
      "text/plain": [
       "plot without title"
      ]
     },
     "metadata": {},
     "output_type": "display_data"
    }
   ],
   "source": [
    "ggplot(data=data, aes(log(Centrifuge), proportion)) +\n",
    "    geom_point(aes(group=Trt)) +\n",
    "    geom_text(aes(label=Trt, colour=Trt), vjust=-.6) +\n",
    "    labs(x=\"Log (Centrifuging Force)\", y=\"Proportion Germinated\", \n",
    "         title = \"Proportion Germinated Anthers Vs Log(Centrifuging Force)\") +\n",
    "    theme(legend.position = \"none\")"
   ]
  },
  {
   "cell_type": "markdown",
   "metadata": {},
   "source": [
    "### Fitting a linear model with different intercepts and same slope"
   ]
  },
  {
   "cell_type": "code",
   "execution_count": 277,
   "metadata": {},
   "outputs": [
    {
     "data": {
      "text/plain": [
       "\n",
       "Call:\n",
       "lm(formula = proportion ~ Trt + log(Centrifuge), data = data)\n",
       "\n",
       "Residuals:\n",
       "        1         2         3         4         5         6 \n",
       "-0.040119  0.001108  0.039012  0.042924 -0.008287 -0.034637 \n",
       "\n",
       "Coefficients:\n",
       "                Estimate Std. Error t value Pr(>|t|)   \n",
       "(Intercept)      0.73336    0.10462   7.010  0.00596 **\n",
       "TrtT             0.10143    0.03725   2.723  0.07237 . \n",
       "log(Centrifuge) -0.04175    0.02087  -2.001  0.13918   \n",
       "---\n",
       "Signif. codes:  0 '***' 0.001 '**' 0.01 '*' 0.05 '.' 0.1 ' ' 1\n",
       "\n",
       "Residual standard error: 0.04562 on 3 degrees of freedom\n",
       "Multiple R-squared:  0.7919,\tAdjusted R-squared:  0.6532 \n",
       "F-statistic: 5.709 on 2 and 3 DF,  p-value: 0.0949\n"
      ]
     },
     "metadata": {},
     "output_type": "display_data"
    }
   ],
   "source": [
    "msreg = lm(proportion ~ Trt + log(Centrifuge), data=data)\n",
    "summary(msreg)"
   ]
  },
  {
   "cell_type": "markdown",
   "metadata": {},
   "source": [
    "### Estimated parameters from \"lm\" method in R vs Estimates from Book"
   ]
  },
  {
   "cell_type": "code",
   "execution_count": 278,
   "metadata": {},
   "outputs": [
    {
     "data": {
      "text/html": [
       "<table>\n",
       "<thead><tr><th></th><th scope=col>R_lm</th><th scope=col>Book_Estimates</th></tr></thead>\n",
       "<tbody>\n",
       "\t<tr><th scope=row>(Intercept)</th><td> 0.7334</td><td> 0.8770</td></tr>\n",
       "\t<tr><th scope=row>TrtT</th><td> 0.1014</td><td> 0.0407</td></tr>\n",
       "\t<tr><th scope=row>log(Centrifuge)</th><td>-0.0418</td><td>-0.1550</td></tr>\n",
       "</tbody>\n",
       "</table>\n"
      ],
      "text/latex": [
       "\\begin{tabular}{r|ll}\n",
       "  & R\\_lm & Book\\_Estimates\\\\\n",
       "\\hline\n",
       "\t(Intercept) &  0.7334 &  0.8770\\\\\n",
       "\tTrtT &  0.1014 &  0.0407\\\\\n",
       "\tlog(Centrifuge) & -0.0418 & -0.1550\\\\\n",
       "\\end{tabular}\n"
      ],
      "text/markdown": [
       "\n",
       "| <!--/--> | R_lm | Book_Estimates | \n",
       "|---|---|---|\n",
       "| (Intercept) |  0.7334 |  0.8770 | \n",
       "| TrtT |  0.1014 |  0.0407 | \n",
       "| log(Centrifuge) | -0.0418 | -0.1550 | \n",
       "\n",
       "\n"
      ],
      "text/plain": [
       "                R_lm    Book_Estimates\n",
       "(Intercept)      0.7334  0.8770       \n",
       "TrtT             0.1014  0.0407       \n",
       "log(Centrifuge) -0.0418 -0.1550       "
      ]
     },
     "metadata": {},
     "output_type": "display_data"
    }
   ],
   "source": [
    "coef = data.frame(R_lm = round(coefficients(msreg),4), Book_Estimates = c(0.877,0.0407,-0.155))\n",
    "coef"
   ]
  },
  {
   "cell_type": "markdown",
   "metadata": {},
   "source": [
    "### Fitted Values from \"lm\" method in R vs Book"
   ]
  },
  {
   "cell_type": "code",
   "execution_count": 279,
   "metadata": {},
   "outputs": [
    {
     "data": {
      "text/html": [
       "<table>\n",
       "<thead><tr><th scope=col>Observed</th><th scope=col>R_lm_fitted</th><th scope=col>Book_Fitted_Model</th></tr></thead>\n",
       "<tbody>\n",
       "\t<tr><td>0.539</td><td>0.579</td><td>0.576</td></tr>\n",
       "\t<tr><td>0.525</td><td>0.524</td><td>0.526</td></tr>\n",
       "\t<tr><td>0.528</td><td>0.489</td><td>0.493</td></tr>\n",
       "\t<tr><td>0.724</td><td>0.681</td><td>0.671</td></tr>\n",
       "\t<tr><td>0.617</td><td>0.626</td><td>0.625</td></tr>\n",
       "\t<tr><td>0.556</td><td>0.590</td><td>0.593</td></tr>\n",
       "</tbody>\n",
       "</table>\n"
      ],
      "text/latex": [
       "\\begin{tabular}{r|lll}\n",
       " Observed & R\\_lm\\_fitted & Book\\_Fitted\\_Model\\\\\n",
       "\\hline\n",
       "\t 0.539 & 0.579 & 0.576\\\\\n",
       "\t 0.525 & 0.524 & 0.526\\\\\n",
       "\t 0.528 & 0.489 & 0.493\\\\\n",
       "\t 0.724 & 0.681 & 0.671\\\\\n",
       "\t 0.617 & 0.626 & 0.625\\\\\n",
       "\t 0.556 & 0.590 & 0.593\\\\\n",
       "\\end{tabular}\n"
      ],
      "text/markdown": [
       "\n",
       "Observed | R_lm_fitted | Book_Fitted_Model | \n",
       "|---|---|---|---|---|---|\n",
       "| 0.539 | 0.579 | 0.576 | \n",
       "| 0.525 | 0.524 | 0.526 | \n",
       "| 0.528 | 0.489 | 0.493 | \n",
       "| 0.724 | 0.681 | 0.671 | \n",
       "| 0.617 | 0.626 | 0.625 | \n",
       "| 0.556 | 0.590 | 0.593 | \n",
       "\n",
       "\n"
      ],
      "text/plain": [
       "  Observed R_lm_fitted Book_Fitted_Model\n",
       "1 0.539    0.579       0.576            \n",
       "2 0.525    0.524       0.526            \n",
       "3 0.528    0.489       0.493            \n",
       "4 0.724    0.681       0.671            \n",
       "5 0.617    0.626       0.625            \n",
       "6 0.556    0.590       0.593            "
      ]
     },
     "metadata": {},
     "output_type": "display_data"
    }
   ],
   "source": [
    "fit = data.frame(Observed = round(data$proportion, 3),\n",
    "                 R_lm_fitted = round(fitted(msreg), 3), \n",
    "                 Book_Fitted_Model = c(0.576,0.526,0.493,0.671,0.625,0.593))\n",
    "fit"
   ]
  },
  {
   "cell_type": "markdown",
   "metadata": {},
   "source": [
    "### Log Likelihood Ratio Statistic"
   ]
  },
  {
   "cell_type": "code",
   "execution_count": 280,
   "metadata": {},
   "outputs": [
    {
     "data": {
      "text/html": [
       "<table>\n",
       "<thead><tr><th scope=col>Modified_x_sq</th><th scope=col>Book_D</th><th scope=col>d.f</th></tr></thead>\n",
       "<tbody>\n",
       "\t<tr><td>2.482</td><td>2.619</td><td>3    </td></tr>\n",
       "</tbody>\n",
       "</table>\n"
      ],
      "text/latex": [
       "\\begin{tabular}{r|lll}\n",
       " Modified\\_x\\_sq & Book\\_D & d.f\\\\\n",
       "\\hline\n",
       "\t 2.482 & 2.619 & 3    \\\\\n",
       "\\end{tabular}\n"
      ],
      "text/markdown": [
       "\n",
       "Modified_x_sq | Book_D | d.f | \n",
       "|---|\n",
       "| 2.482 | 2.619 | 3     | \n",
       "\n",
       "\n"
      ],
      "text/plain": [
       "  Modified_x_sq Book_D d.f\n",
       "1 2.482         2.619  3  "
      ]
     },
     "metadata": {},
     "output_type": "display_data"
    }
   ],
   "source": [
    "x_sq_mod = sum((data$proportion - fitted(msreg))^2/((data$proportion * (1 - data$proportion))/data$Total))\n",
    "data.frame(Modified_x_sq = round(x_sq_mod,3), Book_D = 2.619, d.f = 3)"
   ]
  },
  {
   "cell_type": "markdown",
   "metadata": {},
   "source": [
    "## Comments:\n",
    "### There exists major differences between parameter estimates from the book vs current implementation, although signs of all parameter estimates are the same. I believe these differences may be explained by the machine and methods that the were used to perform regression. (Book 1990, Current 2017)\n",
    "### Fitted values are very close between the book and current implementation, even though parameter estimates are vastly different.\n",
    "### For unbalanced design of this experiment, the modified chi-squared statistic should be used because it takes into account, relative frequencies and thus may represent an adequate approximation to the  central chi-squared distribution with N - p degrees of freedom."
   ]
  }
 ],
 "metadata": {
  "kernelspec": {
   "display_name": "R",
   "language": "R",
   "name": "ir"
  },
  "language_info": {
   "codemirror_mode": "r",
   "file_extension": ".r",
   "mimetype": "text/x-r-source",
   "name": "R",
   "pygments_lexer": "r",
   "version": "3.4.1"
  }
 },
 "nbformat": 4,
 "nbformat_minor": 2
}
